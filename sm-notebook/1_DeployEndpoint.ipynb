{
 "cells": [
  {
   "cell_type": "markdown",
   "id": "33dcbabf-2c40-4c28-bf1c-daf9ffef3ca3",
   "metadata": {},
   "source": [
    "## 1. Import Python Libraries"
   ]
  },
  {
   "cell_type": "code",
   "execution_count": null,
   "id": "663dc165-7f93-42b0-ad01-f1651650d1b7",
   "metadata": {
    "tags": []
   },
   "outputs": [],
   "source": [
    "import os, sagemaker, subprocess, boto3, time"
   ]
  },
  {
   "cell_type": "markdown",
   "id": "4183a04e-2ab1-4b76-9fdb-4a55b6db923d",
   "metadata": {
    "tags": []
   },
   "source": [
    "## 2. (OPTIONAL) Download Images from S3"
   ]
  },
  {
   "cell_type": "code",
   "execution_count": null,
   "id": "6e620a18-a513-4768-a701-0c743603734a",
   "metadata": {
    "tags": []
   },
   "outputs": [],
   "source": [
    "bucket_name = \"uniben-data\"\n",
    "prefix = \"yolo-validation/\"   \n",
    "local_dir = \"images-test\"\n",
    "\n",
    "if not os.path.isdir(local_dir):\n",
    "    raise FileNotFoundError(f\"Local directory not found: {local_dir}\")\n",
    "        \n",
    "s3 = boto3.client('s3')\n",
    "paginator = s3.get_paginator('list_objects_v2')\n",
    "\n",
    "for page in paginator.paginate(Bucket=bucket_name, Prefix=prefix):\n",
    "    for obj in page.get('Contents', []):\n",
    "        key = obj['Key']\n",
    "        if key.endswith('/'):\n",
    "            continue  # Skip Folders\n",
    "        filename   = os.path.basename(key)\n",
    "        local_path = os.path.join(local_dir, filename)\n",
    "        print('.', end='')\n",
    "        s3.download_file(bucket_name, key, local_path)\n",
    "print(\"\\nDone downloading images!\")"
   ]
  },
  {
   "cell_type": "markdown",
   "id": "81e3ad16-c7dc-4539-8634-4b92825c7e12",
   "metadata": {},
   "source": [
    "## 3. TRAININGS"
   ]
  },
  {
   "cell_type": "markdown",
   "id": "fac38388",
   "metadata": {},
   "source": [
    "### 3.1. Install Ultralytics for YOLO11 model\n",
    "\n",
    "https://docs.ultralytics.com/models/yolo11/#supported-tasks-and-modes"
   ]
  },
  {
   "cell_type": "code",
   "execution_count": null,
   "id": "aa890ad6",
   "metadata": {
    "tags": []
   },
   "outputs": [],
   "source": [
    "!pip3 install ultralytics\n",
    "from ultralytics import YOLO\n",
    "\n",
    "## Choose a base model:\n",
    "model_name = 'yolo11x.pt'\n",
    "model = YOLO(model_name)"
   ]
  },
  {
   "cell_type": "markdown",
   "id": "2cdc3bb8",
   "metadata": {},
   "source": [
    "### 3.2. Train the model"
   ]
  },
  {
   "cell_type": "code",
   "execution_count": null,
   "id": "8dcc5c0a",
   "metadata": {},
   "outputs": [],
   "source": [
    "print(\"Start time:\", time.strftime(\"%Y-%m-%d %H:%M:%S\", time.localtime()))\n",
    "train_start_time = time.time()\n",
    "\n",
    "model.train(data=\"uniben-label.yaml\", \n",
    "            epochs=1000, \n",
    "            imgsz=720, \n",
    "            augment=True, \n",
    "            batch=10, \n",
    "            verbose=False) # Toggle the epoch summaries\n",
    "\n",
    "train_end_time = time.time()\n",
    "print(f\"Training Time = {(train_end_time - train_start_time)/60:0.2f} minutes.\")"
   ]
  },
  {
   "cell_type": "markdown",
   "id": "ac05a7e9-be68-40f8-abc3-e25d3fbe861f",
   "metadata": {},
   "source": [
    "### 3.3. (OPTIONAL) Resume training from the lastest epoch"
   ]
  },
  {
   "cell_type": "code",
   "execution_count": null,
   "id": "e289e2c8-1827-4d6c-b6c8-af2692bdfa89",
   "metadata": {
    "collapsed": true,
    "jupyter": {
     "outputs_hidden": true
    },
    "tags": []
   },
   "outputs": [],
   "source": [
    "## Choose a model:\n",
    "train = \"train2\"\n",
    "print(\"Latest train:\", train)"
   ]
  },
  {
   "cell_type": "code",
   "execution_count": null,
   "id": "6bebb857",
   "metadata": {},
   "outputs": [],
   "source": [
    "model = YOLO(f'runs/detect/{train}/weights/last.pt')\n",
    "model.train(resume=True)"
   ]
  },
  {
   "cell_type": "markdown",
   "id": "9c4f30e2-4916-457a-9cf5-f24f4944835a",
   "metadata": {
    "tags": []
   },
   "source": [
    "## 4. Zip the code and model into `model.tar.gz` and upload it to specific S3 bucket\n",
    "Here permission is granted to the S3 bucket created with CDK and not any other bucket"
   ]
  },
  {
   "cell_type": "code",
   "execution_count": 13,
   "id": "fcbe0653-b31d-4b52-8edf-839eb2efa1e3",
   "metadata": {},
   "outputs": [],
   "source": [
    "model_zip = \"best.pt\"\n",
    "code_zip = \"code/\"\n",
    "bashCommand = f\"tar -cpzf  model.tar.gz {zip_model} {code_zip}\"\n",
    "process = subprocess.Popen(bashCommand.split(), stdout=subprocess.PIPE)\n",
    "output, error = process.communicate()"
   ]
  },
  {
   "cell_type": "markdown",
   "id": "720e0244",
   "metadata": {},
   "source": [
    "## 5. Select yolo11 bucket"
   ]
  },
  {
   "cell_type": "code",
   "execution_count": null,
   "id": "ultimate-triangle",
   "metadata": {
    "tags": []
   },
   "outputs": [],
   "source": [
    "s3_client = boto3.client('s3')\n",
    "response = s3_client.list_buckets()\n",
    "for bucket in response['Buckets']:\n",
    "    if 'yolo11' in bucket[\"Name\"]:\n",
    "        bucket = 's3://' + bucket[\"Name\"]\n",
    "        break\n",
    "print(f'Bucket: {bucket}')"
   ]
  },
  {
   "cell_type": "markdown",
   "id": "08e5b179",
   "metadata": {},
   "source": [
    "## 6. Upload model to S3"
   ]
  },
  {
   "cell_type": "code",
   "execution_count": null,
   "id": "2d4c5032-8a51-4539-8ef6-cfa8f07e2d8b",
   "metadata": {
    "tags": []
   },
   "outputs": [],
   "source": [
    "from sagemaker import s3\n",
    "from sagemaker import get_execution_role\n",
    "\n",
    "sm_client = boto3.client(service_name=\"sagemaker\")\n",
    "runtime_sm_client = boto3.client(service_name=\"sagemaker-runtime\")\n",
    "\n",
    "account_id = boto3.client(\"sts\").get_caller_identity()[\"Account\"]\n",
    "print(f'Account ID: {account_id}')\n",
    "role = get_execution_role()\n",
    "print(f'Role: {role}')\n",
    "\n",
    "prefix = \"yolo11\"\n",
    "model_data = s3.S3Uploader.upload(\"model.tar.gz\", bucket + \"/\" + prefix)\n",
    "print(f'Model Data: {model_data}')"
   ]
  },
  {
   "cell_type": "markdown",
   "id": "91c395a5",
   "metadata": {
    "tags": []
   },
   "source": [
    "## 7. Create the SageMaker PyTorchModel"
   ]
  },
  {
   "cell_type": "code",
   "execution_count": 16,
   "id": "dfdced23-e766-4ead-9a16-7c45dec8c0a6",
   "metadata": {
    "tags": []
   },
   "outputs": [],
   "source": [
    "from sagemaker.pytorch import PyTorchModel\n",
    "\n",
    "sess = sagemaker.Session(default_bucket=bucket.split('s3://')[-1])\n",
    "model = PyTorchModel(entry_point='inference.py',\n",
    "                     model_data=model_data, \n",
    "                     framework_version='1.12', \n",
    "                     py_version='py38',\n",
    "                     role=role,\n",
    "                     env={'TS_MAX_RESPONSE_SIZE':'20000000', 'YOLO11_MODEL': 'best.pt'},\n",
    "                     sagemaker_session=sess)"
   ]
  },
  {
   "cell_type": "markdown",
   "id": "polyphonic-outline",
   "metadata": {
    "tags": []
   },
   "source": [
    "## 8. Deploy the model on SageMaker Endpoint:"
   ]
  },
  {
   "cell_type": "code",
   "execution_count": null,
   "id": "convinced-miller",
   "metadata": {
    "tags": []
   },
   "outputs": [],
   "source": [
    "from sagemaker.deserializers import JSONDeserializer\n",
    "\n",
    "INSTANCE_TYPE = 'ml.c5.xlarge'\n",
    "ENDPOINT_NAME = 'yolo11-pytorch-' + str(time.strftime(\"%Y-%m-%d %H:%M:%S\", time.localtime()))\n",
    "\n",
    "# Store the endpoint name in the history to be accessed by 2_TestEndpoint.ipynb notebook\n",
    "%store ENDPOINT_NAME\n",
    "print(f'Endpoint Name: {ENDPOINT_NAME}')\n",
    "\n",
    "predictor = model.deploy(initial_instance_count=1, \n",
    "                         instance_type=INSTANCE_TYPE,\n",
    "                         deserializer=JSONDeserializer(),\n",
    "                         endpoint_name=ENDPOINT_NAME)"
   ]
  }
 ],
 "metadata": {
  "kernelspec": {
   "display_name": "conda_python3",
   "language": "python",
   "name": "conda_python3"
  },
  "language_info": {
   "codemirror_mode": {
    "name": "ipython",
    "version": 3
   },
   "file_extension": ".py",
   "mimetype": "text/x-python",
   "name": "python",
   "nbconvert_exporter": "python",
   "pygments_lexer": "ipython3",
   "version": "3.10.18"
  }
 },
 "nbformat": 4,
 "nbformat_minor": 5
}
