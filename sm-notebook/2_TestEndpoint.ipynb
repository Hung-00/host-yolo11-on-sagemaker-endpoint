{
 "cells": [
  {
   "cell_type": "markdown",
   "id": "ee63f4f8",
   "metadata": {},
   "source": [
    "## 1. Import Python Libraries"
   ]
  },
  {
   "cell_type": "code",
   "execution_count": 1,
   "id": "1b6b4621",
   "metadata": {
    "tags": []
   },
   "outputs": [],
   "source": [
    "import boto3, cv2, time, numpy as np, matplotlib.pyplot as plt, random\n",
    "import base64, json"
   ]
  },
  {
   "cell_type": "markdown",
   "id": "158dcccc-905b-4448-8570-94015bc67d19",
   "metadata": {},
   "source": [
    "## 2. Check if Endpoint creation is successful and create the predictor"
   ]
  },
  {
   "cell_type": "code",
   "execution_count": null,
   "id": "74487be9-e5dd-4a4c-aed6-75a2e895aace",
   "metadata": {
    "tags": []
   },
   "outputs": [],
   "source": [
    "sm_client = boto3.client(service_name=\"sagemaker\")\n",
    "\n",
    "# Restore the endpoint name stored in the 2_DeployEndpoint.ipynb notebook\n",
    "%store -r ENDPOINT_NAME\n",
    "print(f'Endpoint Name: {ENDPOINT_NAME}')\n",
    "\n",
    "endpoint_created = False\n",
    "while True:\n",
    "    response = sm_client.list_endpoints()\n",
    "    for ep in response['Endpoints']:\n",
    "        print(f\"Endpoint Status = {ep['EndpointStatus']}\")\n",
    "        if ep['EndpointName']==ENDPOINT_NAME and ep['EndpointStatus']=='InService':\n",
    "            endpoint_created = True\n",
    "            break\n",
    "    if endpoint_created:\n",
    "        break\n",
    "    time.sleep(5)"
   ]
  },
  {
   "cell_type": "markdown",
   "id": "83ec72a4",
   "metadata": {},
   "source": [
    "## 3. Run Inference and Generate output results"
   ]
  },
  {
   "cell_type": "code",
   "execution_count": null,
   "id": "edd80ede-8262-4398-ad30-e1ecc719d812",
   "metadata": {
    "tags": []
   },
   "outputs": [],
   "source": [
    "infer_start_time = time.time()\n",
    "\n",
    "# Read the image into a numpy  array\n",
    "orig_image = cv2.imread('images-test/z6686604803522_8d40b41b8489d82e13f15d9db092d1d8.jpg')\n",
    "\n",
    "# Conver the array into jpeg\n",
    "jpeg = cv2.imencode('.jpg', orig_image)[1]\n",
    "# Serialize the jpg using base 64\n",
    "payload = base64.b64encode(jpeg).decode('utf-8')\n",
    "\n",
    "runtime= boto3.client('runtime.sagemaker')\n",
    "response = runtime.invoke_endpoint(EndpointName=ENDPOINT_NAME,\n",
    "                                        ContentType='text/csv',\n",
    "                                        Body=payload)\n",
    "response_body = response['Body'].read()\n",
    "result = json.loads(response_body.decode('ascii'))\n",
    "\n",
    "infer_end_time = time.time()\n",
    "\n",
    "print(f\"Inference Time = {infer_end_time - infer_start_time:0.4f} seconds\")\n",
    "\n",
    "print(result)\n"
   ]
  },
  {
   "cell_type": "markdown",
   "id": "2787b49b-44bb-4133-b5c9-e20f8f1c44a5",
   "metadata": {
    "tags": []
   },
   "source": [
    "## 4. Print and Generate image"
   ]
  },
  {
   "cell_type": "code",
   "execution_count": null,
   "id": "864a2a24-e728-4574-930c-b59bafc26139",
   "metadata": {
    "tags": []
   },
   "outputs": [],
   "source": [
    "CLASS_COLORS = {\n",
    "    0: (0,255,0),\n",
    "    1: (255,0,0),\n",
    "    2: (0,0,255),\n",
    "    3: (0,0,0),\n",
    "}\n",
    "\n",
    "CLASS_NAMES = {\n",
    "    0: \"abben\",\n",
    "    1: \"boncha\",\n",
    "    2: \"joco\",\n",
    "    3: \"shelf\",\n",
    "}\n",
    "\n",
    "for box in result['boxes']:\n",
    "    x1, y1, x2, y2, conf, classID = box\n",
    "    color = CLASS_COLORS.get(int(classID), (255,255,255))\n",
    "    # label = f\"{CLASS_NAMES.get(classID, classID)} {conf:.2f}\"\n",
    "    # Draw rectangle\n",
    "    cv2.rectangle(orig_image, (int(x1), int(y1)), (int(x2), int(y2)), color, thickness=2)\n",
    "    # # Draw label background\n",
    "    # (w, h), _ = cv2.getTextSize(label, cv2.FONT_HERSHEY_SIMPLEX, 0.6, 1)\n",
    "    # cv2.rectangle(img, (int(x1), int(y1) - h - 4),\n",
    "    #                    (int(x1) + w, int(y1)), color, -1)\n",
    "    # # Put text\n",
    "    # cv2.putText(img, label, (int(x1), int(y1) - 2),\n",
    "    # cv2.FONT_HERSHEY_SIMPLEX, 0.6, (0,0,0), 1, cv2.LINE_AA)\n",
    "\n",
    "\n",
    "plt.figure(figsize=(12,8))\n",
    "plt.imshow(cv2.cvtColor(orig_image, cv2.COLOR_BGR2RGB))\n",
    "plt.axis('off')\n",
    "plt.show()\n",
    "\n",
    "out_path = 'output_with_boxes.jpg'\n",
    "cv2.imwrite(out_path, orig_image)\n",
    "print(f\"Annotated image saved to {out_path}\")\n"
   ]
  }
 ],
 "metadata": {
  "kernelspec": {
   "display_name": "conda_python3",
   "language": "python",
   "name": "conda_python3"
  },
  "language_info": {
   "codemirror_mode": {
    "name": "ipython",
    "version": 3
   },
   "file_extension": ".py",
   "mimetype": "text/x-python",
   "name": "python",
   "nbconvert_exporter": "python",
   "pygments_lexer": "ipython3",
   "version": "3.10.18"
  }
 },
 "nbformat": 4,
 "nbformat_minor": 5
}
