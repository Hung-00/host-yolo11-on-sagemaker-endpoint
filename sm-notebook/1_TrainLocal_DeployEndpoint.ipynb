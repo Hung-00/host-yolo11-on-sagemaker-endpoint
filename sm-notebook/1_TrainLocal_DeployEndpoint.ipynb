{
 "cells": [
  {
   "cell_type": "markdown",
   "id": "33dcbabf-2c40-4c28-bf1c-daf9ffef3ca3",
   "metadata": {},
   "source": [
    "## 1. Import Python Libraries"
   ]
  },
  {
   "cell_type": "code",
   "execution_count": null,
   "id": "663dc165-7f93-42b0-ad01-f1651650d1b7",
   "metadata": {
    "tags": []
   },
   "outputs": [],
   "source": [
    "import os, sagemaker, subprocess, boto3, time"
   ]
  },
  {
   "cell_type": "markdown",
   "id": "4183a04e-2ab1-4b76-9fdb-4a55b6db923d",
   "metadata": {
    "tags": []
   },
   "source": [
    "## 2. (OPTIONAL) Download Images from S3"
   ]
  },
  {
   "cell_type": "code",
   "execution_count": null,
   "id": "6e620a18-a513-4768-a701-0c743603734a",
   "metadata": {
    "tags": []
   },
   "outputs": [],
   "source": [
    "bucket_name = \"uniben-data\"\n",
    "prefix = \"yolo-validation/\"   \n",
    "local_dir = \"images-test\"\n",
    "\n",
    "if not os.path.isdir(local_dir):\n",
    "    raise FileNotFoundError(f\"Local directory not found: {local_dir}\")\n",
    "        \n",
    "s3 = boto3.client('s3')\n",
    "paginator = s3.get_paginator('list_objects_v2')\n",
    "\n",
    "for page in paginator.paginate(Bucket=bucket_name, Prefix=prefix):\n",
    "    for obj in page.get('Contents', []):\n",
    "        key = obj['Key']\n",
    "        if key.endswith('/'):\n",
    "            continue  # Skip Folders\n",
    "        filename   = os.path.basename(key)\n",
    "        local_path = os.path.join(local_dir, filename)\n",
    "        print('.', end='')\n",
    "        s3.download_file(bucket_name, key, local_path)\n",
    "print(\"\\nDone downloading images!\")"
   ]
  },
  {
   "cell_type": "markdown",
   "id": "81e3ad16-c7dc-4539-8634-4b92825c7e12",
   "metadata": {},
   "source": [
    "## 3. TRAININGS"
   ]
  },
  {
   "cell_type": "markdown",
   "id": "fac38388",
   "metadata": {},
   "source": [
    "### 3.1. Install Ultralytics for YOLO11 model\n",
    "\n",
    "https://docs.ultralytics.com/models/yolo11/#supported-tasks-and-modes"
   ]
  },
  {
   "cell_type": "code",
   "execution_count": null,
   "id": "aa890ad6",
   "metadata": {
    "tags": []
   },
   "outputs": [],
   "source": [
    "!pip3 install ultralytics\n",
    "from ultralytics import YOLO\n",
    "\n",
    "model_name = 'yolo11x.pt'\n",
    "model = YOLO(model_name)"
   ]
  },
  {
   "cell_type": "markdown",
   "id": "2cdc3bb8",
   "metadata": {},
   "source": [
    "### 3.2. Train the model"
   ]
  },
  {
   "cell_type": "code",
   "execution_count": null,
   "id": "8dcc5c0a",
   "metadata": {},
   "outputs": [],
   "source": [
    "print(\"Start time:\", time.strftime(\"%Y-%m-%d %H:%M:%S\", time.localtime()))\n",
    "train_start_time = time.time()\n",
    "\n",
    "model.train(data=\"uniben-label.yaml\", \n",
    "            epochs=1000, \n",
    "            imgsz=720, \n",
    "            augment=True, \n",
    "            batch=10, \n",
    "            verbose=False) # Toggle the epoch summaries\n",
    "\n",
    "train_end_time = time.time()\n",
    "print(f\"Training Time = {(train_end_time - train_start_time)/60:0.2f} minutes.\")"
   ]
  },
  {
   "cell_type": "markdown",
   "id": "ac05a7e9-be68-40f8-abc3-e25d3fbe861f",
   "metadata": {},
   "source": [
    "### 3.3. (OPTIONAL) Resume training from the lastest epoch"
   ]
  },
  {
   "cell_type": "markdown",
   "id": "b9a414a7-37a1-4673-99e3-d44522e4a862",
   "metadata": {},
   "source": [
    "### Get the latest train folder"
   ]
  },
  {
   "cell_type": "code",
   "execution_count": null,
   "id": "e289e2c8-1827-4d6c-b6c8-af2692bdfa89",
   "metadata": {
    "tags": []
   },
   "outputs": [],
   "source": [
    "runs_dir = \"runs/detect\"\n",
    "train_dirs = [\n",
    "    d for d in os.listdir(runs_dir)\n",
    "    if os.path.isdir(os.path.join(runs_dir, d)) and d.startswith(\"train\")\n",
    "]\n",
    "\n",
    "latest_train_attempt = max(\n",
    "    train_dirs,\n",
    "    key=lambda d: os.path.getmtime(os.path.join(runs_dir, d))\n",
    ")\n",
    "\n",
    "print(\"Latest train folder: \", latest_train_attempt)"
   ]
  },
  {
   "cell_type": "markdown",
   "id": "9dffc8ce-0e4a-45c2-bccc-02b0904c7975",
   "metadata": {},
   "source": [
    "### Resume the training process of the latest train"
   ]
  },
  {
   "cell_type": "code",
   "execution_count": null,
   "id": "6bebb857",
   "metadata": {},
   "outputs": [],
   "source": [
    "model = YOLO(f'runs/detect/{latest_train_attempt}/weights/last.pt')\n",
    "model.train(resume=True)"
   ]
  },
  {
   "cell_type": "markdown",
   "id": "afb9a014-c542-4045-80e5-c3968601d63b",
   "metadata": {},
   "source": [
    "### 3.4. (IMPORTANT, OPTIONAL) Local Inference"
   ]
  },
  {
   "cell_type": "markdown",
   "id": "fb19be2c-909a-42a6-8833-8d22c05a2900",
   "metadata": {},
   "source": [
    "### Get the latest best.pt from latest train, put it into latest-best-model"
   ]
  },
  {
   "cell_type": "code",
   "execution_count": null,
   "id": "e14ae7eb-cdd4-4d19-8ecf-77f8ff2be7bb",
   "metadata": {
    "tags": []
   },
   "outputs": [],
   "source": [
    "import shutil\n",
    "\n",
    "runs_dir   = \"runs/detect\"            \n",
    "target_dir = \"latest-best-model\"   \n",
    "\n",
    "candidates = []\n",
    "for name in os.listdir(runs_dir):\n",
    "    path = os.path.join(runs_dir, name)\n",
    "    if os.path.isdir(path) and name.startswith(\"train\"):\n",
    "        candidates.append(path)\n",
    "\n",
    "if not candidates:\n",
    "    raise RuntimeError(f\"No 'train*' subfolders in {runs_dir}\")\n",
    "\n",
    "latest = max(candidates, key=lambda p: os.path.getmtime(p))\n",
    "print(f\"Latest train folder: {latest}\")\n",
    "\n",
    "src = os.path.join(latest, \"weights\", \"best.pt\")\n",
    "dst = os.path.join(target_dir, \"best.pt\")\n",
    "shutil.copy2(src, dst)\n",
    "print(f\"Copied:\\n  {src}\\n→ {dst}\")"
   ]
  },
  {
   "cell_type": "markdown",
   "id": "cc1e54a8-63dc-42ce-998f-45756f9168c5",
   "metadata": {
    "tags": []
   },
   "source": [
    "### Create local model to invoke"
   ]
  },
  {
   "cell_type": "code",
   "execution_count": 25,
   "id": "c96a3a9d-a967-493d-8243-cc8da72df286",
   "metadata": {
    "tags": []
   },
   "outputs": [],
   "source": [
    "import cv2, numpy as np, matplotlib.pyplot as plt, random\n",
    "import base64, json\n",
    "\n",
    "model = YOLO('./latest-best-model/best.pt')"
   ]
  },
  {
   "cell_type": "code",
   "execution_count": null,
   "id": "39142f16-ba17-4972-8b4b-c23916aaf908",
   "metadata": {
    "tags": []
   },
   "outputs": [],
   "source": [
    "img_path = 'images-test/z6686604803522_8d40b41b8489d82e13f15d9db092d1d8.jpg'\n",
    "result = model.predict(\n",
    "    source=img_path,\n",
    "    save=False,      \n",
    ")\n",
    "\n",
    "print(result)"
   ]
  },
  {
   "cell_type": "code",
   "execution_count": null,
   "id": "9cf5ce5a-12a0-4de1-b25f-a72041f08db1",
   "metadata": {
    "tags": []
   },
   "outputs": [],
   "source": [
    "orig_image = cv2.imread(img_path)\n",
    "\n",
    "CLASS_COLORS = {\n",
    "    0: (0,255,0),\n",
    "    1: (255,0,0),\n",
    "    2: (0,0,255),\n",
    "    3: (0,0,0),\n",
    "}\n",
    "\n",
    "CLASS_NAMES = {\n",
    "    0: \"abben\",\n",
    "    1: \"boncha\",\n",
    "    2: \"joco\",\n",
    "    3: \"shelf\",\n",
    "}\n",
    "\n",
    "for r in result:  # results is a list\n",
    "    boxes = r.boxes.xyxy.cpu().numpy() \n",
    "    classes = r.boxes.cls.cpu().numpy().astype(int)\n",
    "    for (x1, y1, x2, y2), classID in zip(boxes, classes):\n",
    "        color = CLASS_COLORS.get(classID, (255, 255, 255))\n",
    "        cv2.rectangle(\n",
    "            orig_image, \n",
    "            (int(x1), int(y1)), \n",
    "            (int(x2), int(y2)), \n",
    "            color, \n",
    "            thickness=2\n",
    "        )\n",
    "\n",
    "plt.figure(figsize=(12,8))\n",
    "plt.imshow(cv2.cvtColor(orig_image, cv2.COLOR_BGR2RGB))\n",
    "plt.axis('off')\n",
    "plt.show()\n",
    "\n",
    "# out_path = 'output_with_boxes.jpg'\n",
    "# cv2.imwrite(out_path, orig_image)\n",
    "# print(f\"Annotated image saved to {out_path}\")\n"
   ]
  },
  {
   "cell_type": "markdown",
   "id": "5671b3b9-bf4f-496a-8aaf-47c4ad28c2c9",
   "metadata": {},
   "source": [
    "# -----------------------------\n",
    "# Deploy endpoint"
   ]
  },
  {
   "cell_type": "markdown",
   "id": "9c4f30e2-4916-457a-9cf5-f24f4944835a",
   "metadata": {
    "tags": []
   },
   "source": [
    "## 4. Zip the code and model into `model.tar.gz` and upload it to specific S3 bucket\n",
    "Here permission is granted to the S3 bucket created with CDK and not any other bucket"
   ]
  },
  {
   "cell_type": "code",
   "execution_count": 13,
   "id": "fcbe0653-b31d-4b52-8edf-839eb2efa1e3",
   "metadata": {},
   "outputs": [],
   "source": [
    "model_zip = \"latest-best-model/best.pt\"\n",
    "code_zip = \"code/\"\n",
    "bashCommand = f\"tar -cpzf  model.tar.gz {zip_model} {code_zip}\"\n",
    "process = subprocess.Popen(bashCommand.split(), stdout=subprocess.PIPE)\n",
    "output, error = process.communicate()"
   ]
  },
  {
   "cell_type": "markdown",
   "id": "720e0244",
   "metadata": {},
   "source": [
    "## 5. Select yolo11 bucket"
   ]
  },
  {
   "cell_type": "code",
   "execution_count": 14,
   "id": "ultimate-triangle",
   "metadata": {
    "tags": []
   },
   "outputs": [
    {
     "name": "stdout",
     "output_type": "stream",
     "text": [
      "Bucket: s3://yolo11sagemakerstack-yolo11s31ff79126-3g6ezijge4tc\n"
     ]
    }
   ],
   "source": [
    "s3_client = boto3.client('s3')\n",
    "response = s3_client.list_buckets()\n",
    "for bucket in response['Buckets']:\n",
    "    if 'yolo11' in bucket[\"Name\"]:\n",
    "        bucket = 's3://' + bucket[\"Name\"]\n",
    "        break\n",
    "print(f'Bucket: {bucket}')"
   ]
  },
  {
   "cell_type": "markdown",
   "id": "08e5b179",
   "metadata": {},
   "source": [
    "## 6. Upload model to S3"
   ]
  },
  {
   "cell_type": "code",
   "execution_count": null,
   "id": "2d4c5032-8a51-4539-8ef6-cfa8f07e2d8b",
   "metadata": {
    "tags": []
   },
   "outputs": [],
   "source": [
    "from sagemaker import s3\n",
    "from sagemaker import get_execution_role\n",
    "\n",
    "sm_client = boto3.client(service_name=\"sagemaker\")\n",
    "runtime_sm_client = boto3.client(service_name=\"sagemaker-runtime\")\n",
    "\n",
    "account_id = boto3.client(\"sts\").get_caller_identity()[\"Account\"]\n",
    "print(f'Account ID: {account_id}')\n",
    "role = get_execution_role()\n",
    "print(f'Role: {role}')\n",
    "\n",
    "prefix = \"yolo11\"\n",
    "model_data = s3.S3Uploader.upload(\"model.tar.gz\", bucket + \"/\" + prefix)\n",
    "print(f'Model Data: {model_data}')"
   ]
  },
  {
   "cell_type": "markdown",
   "id": "91c395a5",
   "metadata": {
    "tags": []
   },
   "source": [
    "## 7. Create the SageMaker PyTorchModel"
   ]
  },
  {
   "cell_type": "code",
   "execution_count": 16,
   "id": "dfdced23-e766-4ead-9a16-7c45dec8c0a6",
   "metadata": {
    "tags": []
   },
   "outputs": [],
   "source": [
    "from sagemaker.pytorch import PyTorchModel\n",
    "\n",
    "sess = sagemaker.Session(default_bucket=bucket.split('s3://')[-1])\n",
    "model = PyTorchModel(entry_point='inference.py',\n",
    "                     model_data=model_data, \n",
    "                     framework_version='1.12', \n",
    "                     py_version='py38',\n",
    "                     role=role,\n",
    "                     env={'TS_MAX_RESPONSE_SIZE':'20000000', 'YOLO11_MODEL': 'best.pt'},\n",
    "                     sagemaker_session=sess)"
   ]
  },
  {
   "cell_type": "markdown",
   "id": "polyphonic-outline",
   "metadata": {
    "tags": []
   },
   "source": [
    "## 8. Deploy the model on SageMaker Endpoint:"
   ]
  },
  {
   "cell_type": "code",
   "execution_count": null,
   "id": "convinced-miller",
   "metadata": {
    "tags": []
   },
   "outputs": [],
   "source": [
    "from sagemaker.deserializers import JSONDeserializer\n",
    "\n",
    "INSTANCE_TYPE = 'ml.c5.xlarge'\n",
    "ENDPOINT_NAME = 'yolo11-pytorch-' + str(time.strftime(\"%Y-%m-%d %H:%M:%S\", time.localtime()))\n",
    "\n",
    "# Store the endpoint name in the history to be accessed by 2_TestEndpoint.ipynb notebook\n",
    "%store ENDPOINT_NAME\n",
    "print(f'Endpoint Name: {ENDPOINT_NAME}')\n",
    "\n",
    "predictor = model.deploy(initial_instance_count=1, \n",
    "                         instance_type=INSTANCE_TYPE,\n",
    "                         deserializer=JSONDeserializer(),\n",
    "                         endpoint_name=ENDPOINT_NAME)"
   ]
  },
  {
   "cell_type": "markdown",
   "id": "054fb5d4-fd68-45a6-827b-154c17fa5886",
   "metadata": {
    "tags": []
   },
   "source": [
    "## 9.(OPTIONAL) Cleanup by removing Endpoint, Endpoint Config and Model"
   ]
  },
  {
   "cell_type": "code",
   "execution_count": null,
   "id": "ba34a8d7-101d-4a26-9f9e-8c1af4ee4ce8",
   "metadata": {},
   "outputs": [],
   "source": [
    "response = sm_client.describe_endpoint_config(EndpointConfigName=ENDPOINT_NAME)\n",
    "print(response)\n",
    "endpoint_config_name = response['EndpointConfigName']\n",
    "\n",
    "# Delete Endpoint\n",
    "sm_client.delete_endpoint(EndpointName=ENDPOINT_NAME)\n",
    "\n",
    "# Delete Endpoint Configuration\n",
    "sm_client.delete_endpoint_config(EndpointConfigName=endpoint_config_name)\n",
    "\n",
    "# Delete Model\n",
    "for prod_var in response['ProductionVariants']:\n",
    "    model_name = prod_var['ModelName']\n",
    "    sm_client.delete_model(ModelName=model_name)     "
   ]
  }
 ],
 "metadata": {
  "kernelspec": {
   "display_name": "conda_python3",
   "language": "python",
   "name": "conda_python3"
  },
  "language_info": {
   "codemirror_mode": {
    "name": "ipython",
    "version": 3
   },
   "file_extension": ".py",
   "mimetype": "text/x-python",
   "name": "python",
   "nbconvert_exporter": "python",
   "pygments_lexer": "ipython3",
   "version": "3.10.18"
  }
 },
 "nbformat": 4,
 "nbformat_minor": 5
}
