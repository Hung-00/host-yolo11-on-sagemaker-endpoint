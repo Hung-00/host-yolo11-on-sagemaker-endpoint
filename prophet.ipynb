{
 "cells": [
  {
   "cell_type": "markdown",
   "id": "1",
   "metadata": {},
   "source": [
    "# Facebook Prophet Stock Price Prediction\n",
    "\n",
    "This notebook demonstrates how to use Facebook Prophet for stock price prediction with real market data.\n",
    "\n",
    "**Features:**\n",
    "- Downloads real stock data from Yahoo Finance\n",
    "- Trains Prophet model with seasonality\n",
    "- Evaluates model performance\n",
    "- Makes future predictions with confidence intervals\n",
    "- Comprehensive visualizations\n",
    "\n",
    "**⚠️ Disclaimer:** This is for educational purposes only. Stock predictions are inherently uncertain and should not be used as the sole basis for investment decisions."
   ]
  },
  {
   "cell_type": "markdown",
   "id": "2",
   "metadata": {},
   "source": [
    "## 1. Install Required Libraries\n",
    "\n",
    "Run this cell first to install all required packages:"
   ]
  },
  {
   "cell_type": "code",
   "execution_count": null,
   "id": "3",
   "metadata": {
    "tags": []
   },
   "outputs": [],
   "source": [
    "# Install required packages\n",
    "!pip install \"numpy<2\" prophet yfinance pandas matplotlib plotly scikit-learn"
   ]
  },
  {
   "cell_type": "markdown",
   "id": "4",
   "metadata": {},
   "source": [
    "## 2. Import Libraries"
   ]
  },
  {
   "cell_type": "code",
   "execution_count": null,
   "id": "5",
   "metadata": {
    "tags": []
   },
   "outputs": [],
   "source": [
    "import yfinance as yf\n",
    "import pandas as pd\n",
    "import numpy as np\n",
    "import matplotlib.pyplot as plt\n",
    "import plotly.graph_objs as go\n",
    "import plotly.offline as pyo\n",
    "from prophet import Prophet\n",
    "from prophet.plot import plot_plotly, plot_components_plotly\n",
    "from sklearn.metrics import mean_absolute_error, mean_squared_error, r2_score\n",
    "import warnings\n",
    "warnings.filterwarnings('ignore')\n",
    "\n",
    "print(\"All libraries imported successfully!\")"
   ]
  },
  {
   "cell_type": "markdown",
   "id": "6",
   "metadata": {},
   "source": [
    "## 3. Configuration and Data Download\n",
    "\n",
    "Configure your analysis parameters here:"
   ]
  },
  {
   "cell_type": "code",
   "execution_count": null,
   "id": "7",
   "metadata": {
    "tags": []
   },
   "outputs": [],
   "source": [
    "# Configuration - Change these parameters as needed\n",
    "STOCK_SYMBOL = 'AAPL'  # Change this to any stock symbol (AAPL, GOOGL, TSLA, MSFT, etc.)\n",
    "START_DATE = '2020-01-01'\n",
    "END_DATE = '2024-01-01'\n",
    "FORECAST_DAYS = 30  # Number of days to predict into the future\n",
    "\n",
    "print(f\"Downloading {STOCK_SYMBOL} stock data from {START_DATE} to {END_DATE}...\")\n",
    "\n",
    "# Download stock data\n",
    "stock_data = yf.download(STOCK_SYMBOL, start=START_DATE, end=END_DATE)\n",
    "\n",
    "# Display basic information about the data\n",
    "print(f\"Data shape: {stock_data.shape}\")\n",
    "print(f\"Date range: {stock_data.index[0]} to {stock_data.index[-1]}\")\n",
    "print(f\"Columns: {list(stock_data.columns)}\")\n",
    "print(\"\\nFirst 5 rows:\")\n",
    "print(stock_data.head())"
   ]
  },
  {
   "cell_type": "markdown",
   "id": "8",
   "metadata": {},
   "source": [
    "## 4. Data Preprocessing for Prophet\n",
    "\n",
    "Prophet requires specific column names: 'ds' for dates and 'y' for values."
   ]
  },
  {
   "cell_type": "code",
   "execution_count": null,
   "id": "9",
   "metadata": {
    "tags": []
   },
   "outputs": [],
   "source": [
    "# Reset index to make Date a column\n",
    "df = stock_data.reset_index()\n",
    "\n",
    "# Check available columns and handle different column naming\n",
    "print(\"Available columns:\", df.columns.tolist())\n",
    "print(\"Data shape:\", df.shape)\n",
    "\n",
    "# Handle different possible column names from yfinance\n",
    "if 'Adj Close' in df.columns:\n",
    "    price_column = 'Adj Close'\n",
    "elif ('Adj Close', STOCK_SYMBOL) in df.columns:\n",
    "    price_column = ('Adj Close', STOCK_SYMBOL)\n",
    "elif 'Close' in df.columns:\n",
    "    price_column = 'Close'\n",
    "else:\n",
    "    # For multi-level columns, get the Adj Close for the specific stock\n",
    "    adj_close_cols = [col for col in df.columns if 'Adj Close' in str(col)]\n",
    "    if adj_close_cols:\n",
    "        price_column = adj_close_cols[0]\n",
    "    else:\n",
    "        close_cols = [col for col in df.columns if 'Close' in str(col)]\n",
    "        price_column = close_cols[0] if close_cols else df.columns[-1]\n",
    "\n",
    "print(f\"Using price column: {price_column}\")\n",
    "\n",
    "# Extract the price data and ensure it's 1-dimensional\n",
    "price_data = df[price_column]\n",
    "\n",
    "# Handle multi-dimensional data by flattening if necessary\n",
    "if hasattr(price_data, 'values'):\n",
    "    if len(price_data.values.shape) > 1:\n",
    "        price_values = price_data.values.flatten()\n",
    "    else:\n",
    "        price_values = price_data.values\n",
    "else:\n",
    "    price_values = price_data\n",
    "\n",
    "# Prepare data for Prophet\n",
    "prophet_data = pd.DataFrame({\n",
    "    'ds': df['Date'],  # Date column\n",
    "    'y': price_values  # Target variable (Adjusted Close price)\n",
    "})\n",
    "\n",
    "# Remove any missing values\n",
    "prophet_data = prophet_data.dropna()\n",
    "\n",
    "# Display the prepared data\n",
    "print(\"\\nData prepared for Prophet:\")\n",
    "print(f\"Shape: {prophet_data.shape}\")\n",
    "print(prophet_data.head())\n",
    "print(f\"\\nDate range: {prophet_data['ds'].min()} to {prophet_data['ds'].max()}\")\n",
    "print(f\"Price range: ${prophet_data['y'].min():.2f} to ${prophet_data['y'].max():.2f}\")"
   ]
  },
  {
   "cell_type": "markdown",
   "id": "10",
   "metadata": {},
   "source": [
    "## 5. Data Visualization"
   ]
  },
  {
   "cell_type": "code",
   "execution_count": null,
   "id": "11",
   "metadata": {
    "tags": []
   },
   "outputs": [],
   "source": [
    "# Plot the historical stock price\n",
    "plt.figure(figsize=(12, 6))\n",
    "plt.plot(prophet_data['ds'], prophet_data['y'], linewidth=1)\n",
    "plt.title(f'{STOCK_SYMBOL} Historical Stock Price', fontsize=16)\n",
    "plt.xlabel('Date', fontsize=12)\n",
    "plt.ylabel('Adjusted Close Price ($)', fontsize=12)\n",
    "plt.grid(True, alpha=0.3)\n",
    "plt.xticks(rotation=45)\n",
    "plt.tight_layout()\n",
    "plt.show()"
   ]
  },
  {
   "cell_type": "code",
   "execution_count": null,
   "id": "12",
   "metadata": {
    "tags": []
   },
   "outputs": [],
   "source": [
    "# Interactive plot using Plotly\n",
    "fig = go.Figure()\n",
    "fig.add_trace(go.Scatter(\n",
    "    x=prophet_data['ds'], \n",
    "    y=prophet_data['y'],\n",
    "    mode='lines',\n",
    "    name=f'{STOCK_SYMBOL} Price',\n",
    "    line=dict(color='blue', width=1)\n",
    "))\n",
    "\n",
    "fig.update_layout(\n",
    "    title=f'{STOCK_SYMBOL} Historical Stock Price (Interactive)',\n",
    "    xaxis_title='Date',\n",
    "    yaxis_title='Adjusted Close Price ($)',\n",
    "    hovermode='x unified',\n",
    "    template='plotly_white'\n",
    ")\n",
    "\n",
    "fig.show()"
   ]
  },
  {
   "cell_type": "markdown",
   "id": "13",
   "metadata": {},
   "source": [
    "## 6. Train-Test Split"
   ]
  },
  {
   "cell_type": "code",
   "execution_count": null,
   "id": "14",
   "metadata": {
    "tags": []
   },
   "outputs": [],
   "source": [
    "# Split data into train and test sets\n",
    "# We'll use 80% for training and 20% for testing\n",
    "split_index = int(len(prophet_data) * 0.8)\n",
    "\n",
    "train_data = prophet_data[:split_index].copy()\n",
    "test_data = prophet_data[split_index:].copy()\n",
    "\n",
    "print(f\"Training data: {len(train_data)} rows\")\n",
    "print(f\"Testing data: {len(test_data)} rows\")\n",
    "print(f\"Training period: {train_data['ds'].min()} to {train_data['ds'].max()}\")\n",
    "print(f\"Testing period: {test_data['ds'].min()} to {test_data['ds'].max()}\")"
   ]
  },
  {
   "cell_type": "markdown",
   "id": "15",
   "metadata": {},
   "source": [
    "## 7. Create and Train Prophet Model"
   ]
  },
  {
   "cell_type": "code",
   "execution_count": null,
   "id": "16",
   "metadata": {
    "tags": []
   },
   "outputs": [],
   "source": [
    "print(\"Training Prophet model...\")\n",
    "\n",
    "# Initialize Prophet model with various parameters\n",
    "model = Prophet(\n",
    "    daily_seasonality=True,      # Enable daily seasonality\n",
    "    weekly_seasonality=True,     # Enable weekly seasonality\n",
    "    yearly_seasonality=True,     # Enable yearly seasonality\n",
    "    seasonality_mode='multiplicative',  # Try 'additive' or 'multiplicative'\n",
    "    changepoint_prior_scale=0.05,       # Flexibility of trend changes\n",
    "    seasonality_prior_scale=10.0,       # Flexibility of seasonality\n",
    "    interval_width=0.95,                # Uncertainty interval width\n",
    "    growth='linear'                     # 'linear' or 'logistic' growth\n",
    ")\n",
    "\n",
    "# Fit the model on training data\n",
    "model.fit(train_data)\n",
    "\n",
    "print(\"Model training completed!\")"
   ]
  },
  {
   "cell_type": "markdown",
   "id": "17",
   "metadata": {},
   "source": [
    "## 8. Make Predictions on Test Data"
   ]
  },
  {
   "cell_type": "code",
   "execution_count": null,
   "id": "18",
   "metadata": {
    "tags": []
   },
   "outputs": [],
   "source": [
    "# Create future dataframe for the test period\n",
    "future_test = model.make_future_dataframe(periods=len(test_data), freq='D')\n",
    "\n",
    "# Make predictions\n",
    "forecast_test = model.predict(future_test)\n",
    "\n",
    "# Extract predictions for the test period only\n",
    "test_predictions = forecast_test.tail(len(test_data))\n",
    "\n",
    "print(\"Predictions on test data completed!\")\n",
    "print(f\"Test predictions shape: {test_predictions.shape}\")"
   ]
  },
  {
   "cell_type": "markdown",
   "id": "19",
   "metadata": {},
   "source": [
    "## 9. Model Evaluation"
   ]
  },
  {
   "cell_type": "code",
   "execution_count": null,
   "id": "20",
   "metadata": {
    "tags": []
   },
   "outputs": [],
   "source": [
    "# Calculate evaluation metrics\n",
    "actual_prices = test_data['y'].values\n",
    "predicted_prices = test_predictions['yhat'].values\n",
    "\n",
    "# Calculate metrics\n",
    "mae = mean_absolute_error(actual_prices, predicted_prices)\n",
    "mse = mean_squared_error(actual_prices, predicted_prices)\n",
    "rmse = np.sqrt(mse)\n",
    "r2 = r2_score(actual_prices, predicted_prices)\n",
    "\n",
    "# Calculate percentage errors\n",
    "mape = np.mean(np.abs((actual_prices - predicted_prices) / actual_prices)) * 100\n",
    "\n",
    "print(\"=\" * 50)\n",
    "print(\"MODEL EVALUATION RESULTS\")\n",
    "print(\"=\" * 50)\n",
    "print(f\"Mean Absolute Error (MAE): ${mae:.2f}\")\n",
    "print(f\"Root Mean Square Error (RMSE): ${rmse:.2f}\")\n",
    "print(f\"Mean Absolute Percentage Error (MAPE): {mape:.2f}%\")\n",
    "print(f\"R-squared Score: {r2:.4f}\")\n",
    "print(\"=\" * 50)"
   ]
  },
  {
   "cell_type": "markdown",
   "id": "21",
   "metadata": {},
   "source": [
    "## 10. Visualize Test Results"
   ]
  },
  {
   "cell_type": "code",
   "execution_count": null,
   "id": "22",
   "metadata": {
    "tags": []
   },
   "outputs": [],
   "source": [
    "# Plot actual vs predicted prices\n",
    "plt.figure(figsize=(15, 8))\n",
    "\n",
    "# Plot training data\n",
    "plt.subplot(2, 1, 1)\n",
    "plt.plot(train_data['ds'], train_data['y'], label='Training Data', color='blue', alpha=0.7)\n",
    "plt.plot(test_data['ds'], test_data['y'], label='Actual Test Data', color='green', linewidth=2)\n",
    "plt.plot(test_data['ds'], predicted_prices, label='Predicted Test Data', color='red', linewidth=2, linestyle='--')\n",
    "plt.title(f'{STOCK_SYMBOL} Stock Price Prediction - Model Performance', fontsize=14)\n",
    "plt.xlabel('Date')\n",
    "plt.ylabel('Price ($)')\n",
    "plt.legend()\n",
    "plt.grid(True, alpha=0.3)\n",
    "\n",
    "# Plot residuals\n",
    "plt.subplot(2, 1, 2)\n",
    "residuals = actual_prices - predicted_prices\n",
    "plt.plot(test_data['ds'], residuals, color='purple', linewidth=1)\n",
    "plt.axhline(y=0, color='black', linestyle='-', alpha=0.5)\n",
    "plt.title('Prediction Residuals (Actual - Predicted)', fontsize=14)\n",
    "plt.xlabel('Date')\n",
    "plt.ylabel('Residual ($)')\n",
    "plt.grid(True, alpha=0.3)\n",
    "\n",
    "plt.tight_layout()\n",
    "plt.show()"
   ]
  },
  {
   "cell_type": "markdown",
   "id": "23",
   "metadata": {},
   "source": [
    "## 11. Future Predictions"
   ]
  },
  {
   "cell_type": "code",
   "execution_count": null,
   "id": "24",
   "metadata": {
    "tags": []
   },
   "outputs": [],
   "source": [
    "print(f\"Making predictions for the next {FORECAST_DAYS} days...\")\n",
    "\n",
    "# Create future dataframe for prediction\n",
    "future = model.make_future_dataframe(periods=FORECAST_DAYS, freq='D')\n",
    "\n",
    "# Make predictions\n",
    "forecast = model.predict(future)\n",
    "\n",
    "# Extract future predictions only\n",
    "future_predictions = forecast.tail(FORECAST_DAYS)\n",
    "\n",
    "print(\"Future Predictions:\")\n",
    "print(\"=\" * 60)\n",
    "for i, row in future_predictions.iterrows():\n",
    "    date = row['ds'].strftime('%Y-%m-%d')\n",
    "    price = row['yhat']\n",
    "    lower = row['yhat_lower']\n",
    "    upper = row['yhat_upper']\n",
    "    print(f\"{date}: ${price:.2f} (${lower:.2f} - ${upper:.2f})\")"
   ]
  },
  {
   "cell_type": "markdown",
   "id": "25",
   "metadata": {},
   "source": [
    "## 12. Comprehensive Visualization"
   ]
  },
  {
   "cell_type": "code",
   "execution_count": null,
   "id": "26",
   "metadata": {
    "tags": []
   },
   "outputs": [],
   "source": [
    "# Plot the complete forecast\n",
    "fig, ax = plt.subplots(figsize=(15, 8))\n",
    "\n",
    "# Plot historical data\n",
    "ax.plot(prophet_data['ds'], prophet_data['y'], label='Historical Data', color='black', linewidth=1)\n",
    "\n",
    "# Plot forecast\n",
    "forecast_dates = forecast['ds']\n",
    "ax.plot(forecast_dates, forecast['yhat'], label='Forecast', color='blue', linewidth=2)\n",
    "\n",
    "# Plot confidence intervals\n",
    "ax.fill_between(forecast_dates, forecast['yhat_lower'], forecast['yhat_upper'], \n",
    "                color='blue', alpha=0.2, label='Confidence Interval')\n",
    "\n",
    "# Highlight future predictions\n",
    "future_start = prophet_data['ds'].max()\n",
    "future_mask = forecast['ds'] > future_start\n",
    "ax.plot(forecast.loc[future_mask, 'ds'], forecast.loc[future_mask, 'yhat'], \n",
    "        color='red', linewidth=3, label='Future Predictions')\n",
    "\n",
    "# Add vertical line to separate historical and future data\n",
    "ax.axvline(x=future_start, color='gray', linestyle='--', alpha=0.7, label='Forecast Start')\n",
    "\n",
    "ax.set_title(f'{STOCK_SYMBOL} Stock Price Forecast with Prophet', fontsize=16)\n",
    "ax.set_xlabel('Date', fontsize=12)\n",
    "ax.set_ylabel('Price ($)', fontsize=12)\n",
    "ax.legend()\n",
    "ax.grid(True, alpha=0.3)\n",
    "plt.xticks(rotation=45)\n",
    "plt.tight_layout()\n",
    "plt.show()"
   ]
  },
  {
   "cell_type": "markdown",
   "id": "27",
   "metadata": {},
   "source": [
    "## 13. Prophet Components Analysis"
   ]
  },
  {
   "cell_type": "code",
   "execution_count": null,
   "id": "28",
   "metadata": {
    "tags": []
   },
   "outputs": [],
   "source": [
    "# Plot forecast components (trend, seasonality, etc.)\n",
    "fig = model.plot_components(forecast)\n",
    "plt.suptitle(f'{STOCK_SYMBOL} Forecast Components', fontsize=16, y=1.02)\n",
    "plt.tight_layout()\n",
    "plt.show()"
   ]
  },
  {
   "cell_type": "markdown",
   "id": "29",
   "metadata": {},
   "source": [
    "## 14. Interactive Prophet Visualization"
   ]
  },
  {
   "cell_type": "code",
   "execution_count": null,
   "id": "30",
   "metadata": {
    "tags": []
   },
   "outputs": [],
   "source": [
    "# Create interactive plot\n",
    "fig = plot_plotly(model, forecast)\n",
    "fig.update_layout(title=f'{STOCK_SYMBOL} Stock Price Forecast - Interactive View')\n",
    "fig.show()\n",
    "\n",
    "# Interactive components plot\n",
    "fig_components = plot_components_plotly(model, forecast)\n",
    "fig_components.show()"
   ]
  },
  {
   "cell_type": "markdown",
   "id": "31",
   "metadata": {},
   "source": [
    "## 15. Model Insights and Summary"
   ]
  },
  {
   "cell_type": "code",
   "execution_count": null,
   "id": "32",
   "metadata": {
    "tags": []
   },
   "outputs": [],
   "source": [
    "print(\"=\" * 70)\n",
    "print(\"PROPHET MODEL ANALYSIS SUMMARY\")\n",
    "print(\"=\" * 70)\n",
    "\n",
    "# Calculate some insights\n",
    "total_return = ((prophet_data['y'].iloc[-1] - prophet_data['y'].iloc[0]) / prophet_data['y'].iloc[0]) * 100\n",
    "current_price = prophet_data['y'].iloc[-1]\n",
    "predicted_price = future_predictions['yhat'].iloc[-1]\n",
    "predicted_return = ((predicted_price - current_price) / current_price) * 100\n",
    "\n",
    "print(f\"Stock Symbol: {STOCK_SYMBOL}\")\n",
    "print(f\"Analysis Period: {START_DATE} to {END_DATE}\")\n",
    "print(f\"Total Historical Return: {total_return:.2f}%\")\n",
    "print(f\"Current Price: ${current_price:.2f}\")\n",
    "print(f\"Predicted Price ({FORECAST_DAYS} days): ${predicted_price:.2f}\")\n",
    "print(f\"Predicted Return: {predicted_return:.2f}%\")\n",
    "print()\n",
    "print(\"Model Performance on Test Data:\")\n",
    "print(f\"  - Mean Absolute Error: ${mae:.2f}\")\n",
    "print(f\"  - Accuracy (100% - MAPE): {100 - mape:.2f}%\")\n",
    "print(f\"  - R-squared: {r2:.4f}\")\n",
    "print()\n",
    "print(\"Key Insights:\")\n",
    "print(\"1. Prophet captures trend and seasonality patterns\")\n",
    "print(\"2. Confidence intervals provide uncertainty estimates\")\n",
    "print(\"3. Model performance varies with market volatility\")\n",
    "print(\"4. Use predictions as guidance, not absolute forecasts\")\n",
    "print()\n",
    "print(\"⚠️  DISCLAIMER: This is for educational purposes only.\")\n",
    "print(\"   Stock predictions are inherently uncertain and should\")\n",
    "print(\"   not be used as the sole basis for investment decisions.\")\n",
    "print(\"=\" * 70)"
   ]
  },
  {
   "cell_type": "markdown",
   "id": "33",
   "metadata": {},
   "source": [
    "## 16. Advanced Analysis (Optional)"
   ]
  },
  {
   "cell_type": "code",
   "execution_count": null,
   "id": "34",
   "metadata": {
    "tags": []
   },
   "outputs": [],
   "source": [
    "# Calculate volatility\n",
    "returns = prophet_data['y'].pct_change().dropna()\n",
    "volatility = returns.std() * np.sqrt(252)  # Annualized volatility\n",
    "\n",
    "# Calculate moving averages for additional context\n",
    "prophet_data['MA_20'] = prophet_data['y'].rolling(window=20).mean()\n",
    "prophet_data['MA_50'] = prophet_data['y'].rolling(window=50).mean()\n",
    "\n",
    "print(\"Additional Technical Analysis:\")\n",
    "print(f\"Annual Volatility: {volatility:.2%}\")\n",
    "print(f\"20-day Moving Average: ${prophet_data['MA_20'].iloc[-1]:.2f}\")\n",
    "print(f\"50-day Moving Average: ${prophet_data['MA_50'].iloc[-1]:.2f}\")\n",
    "\n",
    "# Plot with moving averages\n",
    "plt.figure(figsize=(12, 6))\n",
    "plt.plot(prophet_data['ds'], prophet_data['y'], label='Price', linewidth=1)\n",
    "plt.plot(prophet_data['ds'], prophet_data['MA_20'], label='20-day MA', alpha=0.7)\n",
    "plt.plot(prophet_data['ds'], prophet_data['MA_50'], label='50-day MA', alpha=0.7)\n",
    "plt.title(f'{STOCK_SYMBOL} Price with Moving Averages')\n",
    "plt.xlabel('Date')\n",
    "plt.ylabel('Price ($)')\n",
    "plt.legend()\n",
    "plt.grid(True, alpha=0.3)\n",
    "plt.xticks(rotation=45)\n",
    "plt.tight_layout()\n",
    "plt.show()"
   ]
  },
  {
   "cell_type": "markdown",
   "id": "35",
   "metadata": {},
   "source": [
    "## 17. Save Results (Optional)"
   ]
  },
  {
   "cell_type": "code",
   "execution_count": null,
   "id": "36",
   "metadata": {},
   "outputs": [],
   "source": [
    "# Save predictions to CSV\n",
    "results_df = pd.DataFrame({\n",
    "    'Date': future_predictions['ds'],\n",
    "    'Predicted_Price': future_predictions['yhat'],\n",
    "    'Lower_Bound': future_predictions['yhat_lower'],\n",
    "    'Upper_Bound': future_predictions['yhat_upper']\n",
    "})\n",
    "\n",
    "filename = f'{STOCK_SYMBOL}_prophet_predictions.csv'\n",
    "results_df.to_csv(filename, index=False)\n",
    "print(f\"Predictions saved to {filename}\")\n",
    "\n",
    "# Save model evaluation metrics\n",
    "eval_metrics = {\n",
    "    'Stock_Symbol': STOCK_SYMBOL,\n",
    "    'MAE': mae,\n",
    "    'RMSE': rmse,\n",
    "    'MAPE': mape,\n",
    "    'R2_Score': r2,\n",
    "    'Volatility': volatility,\n",
    "    'Total_Return': total_return,\n",
    "    'Predicted_Return': predicted_return\n",
    "}\n",
    "\n",
    "eval_df = pd.DataFrame([eval_metrics])\n",
    "eval_filename = f'{STOCK_SYMBOL}_model_evaluation.csv'\n",
    "eval_df.to_csv(eval_filename, index=False)\n",
    "print(f\"Model evaluation saved to {eval_filename}\")\n",
    "\n",
    "print(\"\\nAnalysis complete! 🎉\")\n",
    "print(\"\\nTo analyze a different stock:\")\n",
    "print(\"1. Change the STOCK_SYMBOL variable in Cell 3\")\n",
    "print(\"2. Adjust START_DATE, END_DATE, and FORECAST_DAYS as needed\")\n",
    "print(\"3. Run all cells again\")"
   ]
  },
  {
   "cell_type": "markdown",
   "id": "68421e1d-7238-48b5-9101-3085245a8b42",
   "metadata": {
    "tags": []
   },
   "source": [
    "## 18. Deploy Model to AWS SageMaker (Optional)\n",
    "This section shows how to deploy the trained Prophet model to AWS SageMaker for real-time inference."
   ]
  },
  {
   "cell_type": "code",
   "execution_count": 26,
   "id": "c6e742c2-02e3-4790-8e05-24203394f83a",
   "metadata": {
    "tags": []
   },
   "outputs": [
    {
     "name": "stdout",
     "output_type": "stream",
     "text": [
      "Requirement already satisfied: sagemaker in /home/ec2-user/anaconda3/envs/python3/lib/python3.10/site-packages (2.247.1)\n",
      "Requirement already satisfied: boto3 in /home/ec2-user/anaconda3/envs/python3/lib/python3.10/site-packages (1.39.1)\n",
      "Requirement already satisfied: attrs<26,>=24 in /home/ec2-user/anaconda3/envs/python3/lib/python3.10/site-packages (from sagemaker) (25.3.0)\n",
      "Requirement already satisfied: cloudpickle>=2.2.1 in /home/ec2-user/anaconda3/envs/python3/lib/python3.10/site-packages (from sagemaker) (3.1.1)\n",
      "Requirement already satisfied: docker in /home/ec2-user/anaconda3/envs/python3/lib/python3.10/site-packages (from sagemaker) (7.1.0)\n",
      "Requirement already satisfied: fastapi in /home/ec2-user/anaconda3/envs/python3/lib/python3.10/site-packages (from sagemaker) (0.115.14)\n",
      "Requirement already satisfied: google-pasta in /home/ec2-user/anaconda3/envs/python3/lib/python3.10/site-packages (from sagemaker) (0.2.0)\n",
      "Requirement already satisfied: graphene<4,>=3 in /home/ec2-user/anaconda3/envs/python3/lib/python3.10/site-packages (from sagemaker) (3.4.3)\n",
      "Requirement already satisfied: importlib-metadata<7.0,>=1.4.0 in /home/ec2-user/anaconda3/envs/python3/lib/python3.10/site-packages (from sagemaker) (6.11.0)\n",
      "Requirement already satisfied: jsonschema in /home/ec2-user/anaconda3/envs/python3/lib/python3.10/site-packages (from sagemaker) (4.24.0)\n",
      "Requirement already satisfied: numpy==1.26.4 in /home/ec2-user/anaconda3/envs/python3/lib/python3.10/site-packages (from sagemaker) (1.26.4)\n",
      "Requirement already satisfied: omegaconf<3,>=2.2 in /home/ec2-user/anaconda3/envs/python3/lib/python3.10/site-packages (from sagemaker) (2.3.0)\n",
      "Requirement already satisfied: packaging<25,>=23.0 in /home/ec2-user/anaconda3/envs/python3/lib/python3.10/site-packages (from sagemaker) (24.2)\n",
      "Requirement already satisfied: pandas in /home/ec2-user/anaconda3/envs/python3/lib/python3.10/site-packages (from sagemaker) (2.2.3)\n",
      "Requirement already satisfied: pathos in /home/ec2-user/anaconda3/envs/python3/lib/python3.10/site-packages (from sagemaker) (0.3.4)\n",
      "Requirement already satisfied: platformdirs in /home/ec2-user/anaconda3/envs/python3/lib/python3.10/site-packages (from sagemaker) (4.3.8)\n",
      "Requirement already satisfied: protobuf<6.0,>=3.12 in /home/ec2-user/anaconda3/envs/python3/lib/python3.10/site-packages (from sagemaker) (5.29.5)\n",
      "Requirement already satisfied: psutil in /home/ec2-user/anaconda3/envs/python3/lib/python3.10/site-packages (from sagemaker) (6.1.1)\n",
      "Requirement already satisfied: pyyaml>=6.0.1 in /home/ec2-user/anaconda3/envs/python3/lib/python3.10/site-packages (from sagemaker) (6.0.2)\n",
      "Requirement already satisfied: requests in /home/ec2-user/anaconda3/envs/python3/lib/python3.10/site-packages (from sagemaker) (2.32.4)\n",
      "Requirement already satisfied: sagemaker-core<2.0.0,>=1.0.17 in /home/ec2-user/anaconda3/envs/python3/lib/python3.10/site-packages (from sagemaker) (1.0.41)\n",
      "Requirement already satisfied: schema in /home/ec2-user/anaconda3/envs/python3/lib/python3.10/site-packages (from sagemaker) (0.7.7)\n",
      "Requirement already satisfied: smdebug-rulesconfig==1.0.1 in /home/ec2-user/anaconda3/envs/python3/lib/python3.10/site-packages (from sagemaker) (1.0.1)\n",
      "Requirement already satisfied: tblib<4,>=1.7.0 in /home/ec2-user/anaconda3/envs/python3/lib/python3.10/site-packages (from sagemaker) (3.1.0)\n",
      "Requirement already satisfied: tqdm in /home/ec2-user/anaconda3/envs/python3/lib/python3.10/site-packages (from sagemaker) (4.67.1)\n",
      "Requirement already satisfied: urllib3<3.0.0,>=1.26.8 in /home/ec2-user/anaconda3/envs/python3/lib/python3.10/site-packages (from sagemaker) (2.5.0)\n",
      "Requirement already satisfied: uvicorn in /home/ec2-user/anaconda3/envs/python3/lib/python3.10/site-packages (from sagemaker) (0.35.0)\n",
      "Requirement already satisfied: botocore<1.40.0,>=1.39.1 in /home/ec2-user/anaconda3/envs/python3/lib/python3.10/site-packages (from boto3) (1.39.1)\n",
      "Requirement already satisfied: jmespath<2.0.0,>=0.7.1 in /home/ec2-user/anaconda3/envs/python3/lib/python3.10/site-packages (from boto3) (1.0.1)\n",
      "Requirement already satisfied: s3transfer<0.14.0,>=0.13.0 in /home/ec2-user/anaconda3/envs/python3/lib/python3.10/site-packages (from boto3) (0.13.0)\n",
      "Requirement already satisfied: python-dateutil<3.0.0,>=2.1 in /home/ec2-user/anaconda3/envs/python3/lib/python3.10/site-packages (from botocore<1.40.0,>=1.39.1->boto3) (2.9.0.post0)\n",
      "Requirement already satisfied: graphql-core<3.3,>=3.1 in /home/ec2-user/anaconda3/envs/python3/lib/python3.10/site-packages (from graphene<4,>=3->sagemaker) (3.2.6)\n",
      "Requirement already satisfied: graphql-relay<3.3,>=3.1 in /home/ec2-user/anaconda3/envs/python3/lib/python3.10/site-packages (from graphene<4,>=3->sagemaker) (3.2.0)\n",
      "Requirement already satisfied: typing-extensions<5,>=4.7.1 in /home/ec2-user/anaconda3/envs/python3/lib/python3.10/site-packages (from graphene<4,>=3->sagemaker) (4.14.0)\n",
      "Requirement already satisfied: zipp>=0.5 in /home/ec2-user/anaconda3/envs/python3/lib/python3.10/site-packages (from importlib-metadata<7.0,>=1.4.0->sagemaker) (3.23.0)\n",
      "Requirement already satisfied: antlr4-python3-runtime==4.9.* in /home/ec2-user/anaconda3/envs/python3/lib/python3.10/site-packages (from omegaconf<3,>=2.2->sagemaker) (4.9.3)\n",
      "Requirement already satisfied: six>=1.5 in /home/ec2-user/anaconda3/envs/python3/lib/python3.10/site-packages (from python-dateutil<3.0.0,>=2.1->botocore<1.40.0,>=1.39.1->boto3) (1.17.0)\n",
      "Requirement already satisfied: pydantic<3.0.0,>=2.0.0 in /home/ec2-user/anaconda3/envs/python3/lib/python3.10/site-packages (from sagemaker-core<2.0.0,>=1.0.17->sagemaker) (2.9.2)\n",
      "Requirement already satisfied: rich<15.0.0,>=14.0.0 in /home/ec2-user/anaconda3/envs/python3/lib/python3.10/site-packages (from sagemaker-core<2.0.0,>=1.0.17->sagemaker) (14.0.0)\n",
      "Requirement already satisfied: mock<5.0,>4.0 in /home/ec2-user/anaconda3/envs/python3/lib/python3.10/site-packages (from sagemaker-core<2.0.0,>=1.0.17->sagemaker) (4.0.3)\n",
      "Requirement already satisfied: jsonschema-specifications>=2023.03.6 in /home/ec2-user/anaconda3/envs/python3/lib/python3.10/site-packages (from jsonschema->sagemaker) (2025.4.1)\n",
      "Requirement already satisfied: referencing>=0.28.4 in /home/ec2-user/anaconda3/envs/python3/lib/python3.10/site-packages (from jsonschema->sagemaker) (0.36.2)\n",
      "Requirement already satisfied: rpds-py>=0.7.1 in /home/ec2-user/anaconda3/envs/python3/lib/python3.10/site-packages (from jsonschema->sagemaker) (0.25.1)\n",
      "Requirement already satisfied: annotated-types>=0.6.0 in /home/ec2-user/anaconda3/envs/python3/lib/python3.10/site-packages (from pydantic<3.0.0,>=2.0.0->sagemaker-core<2.0.0,>=1.0.17->sagemaker) (0.7.0)\n",
      "Requirement already satisfied: pydantic-core==2.23.4 in /home/ec2-user/anaconda3/envs/python3/lib/python3.10/site-packages (from pydantic<3.0.0,>=2.0.0->sagemaker-core<2.0.0,>=1.0.17->sagemaker) (2.23.4)\n",
      "Requirement already satisfied: markdown-it-py>=2.2.0 in /home/ec2-user/anaconda3/envs/python3/lib/python3.10/site-packages (from rich<15.0.0,>=14.0.0->sagemaker-core<2.0.0,>=1.0.17->sagemaker) (3.0.0)\n",
      "Requirement already satisfied: pygments<3.0.0,>=2.13.0 in /home/ec2-user/anaconda3/envs/python3/lib/python3.10/site-packages (from rich<15.0.0,>=14.0.0->sagemaker-core<2.0.0,>=1.0.17->sagemaker) (2.19.2)\n",
      "Requirement already satisfied: mdurl~=0.1 in /home/ec2-user/anaconda3/envs/python3/lib/python3.10/site-packages (from markdown-it-py>=2.2.0->rich<15.0.0,>=14.0.0->sagemaker-core<2.0.0,>=1.0.17->sagemaker) (0.1.2)\n",
      "Requirement already satisfied: charset_normalizer<4,>=2 in /home/ec2-user/anaconda3/envs/python3/lib/python3.10/site-packages (from requests->sagemaker) (3.4.2)\n",
      "Requirement already satisfied: idna<4,>=2.5 in /home/ec2-user/anaconda3/envs/python3/lib/python3.10/site-packages (from requests->sagemaker) (3.10)\n",
      "Requirement already satisfied: certifi>=2017.4.17 in /home/ec2-user/anaconda3/envs/python3/lib/python3.10/site-packages (from requests->sagemaker) (2025.6.15)\n",
      "Requirement already satisfied: starlette<0.47.0,>=0.40.0 in /home/ec2-user/anaconda3/envs/python3/lib/python3.10/site-packages (from fastapi->sagemaker) (0.46.2)\n",
      "Requirement already satisfied: anyio<5,>=3.6.2 in /home/ec2-user/anaconda3/envs/python3/lib/python3.10/site-packages (from starlette<0.47.0,>=0.40.0->fastapi->sagemaker) (4.9.0)\n",
      "Requirement already satisfied: exceptiongroup>=1.0.2 in /home/ec2-user/anaconda3/envs/python3/lib/python3.10/site-packages (from anyio<5,>=3.6.2->starlette<0.47.0,>=0.40.0->fastapi->sagemaker) (1.3.0)\n",
      "Requirement already satisfied: sniffio>=1.1 in /home/ec2-user/anaconda3/envs/python3/lib/python3.10/site-packages (from anyio<5,>=3.6.2->starlette<0.47.0,>=0.40.0->fastapi->sagemaker) (1.3.1)\n",
      "Requirement already satisfied: pytz>=2020.1 in /home/ec2-user/anaconda3/envs/python3/lib/python3.10/site-packages (from pandas->sagemaker) (2024.1)\n",
      "Requirement already satisfied: tzdata>=2022.7 in /home/ec2-user/anaconda3/envs/python3/lib/python3.10/site-packages (from pandas->sagemaker) (2025.2)\n",
      "Requirement already satisfied: ppft>=1.7.7 in /home/ec2-user/anaconda3/envs/python3/lib/python3.10/site-packages (from pathos->sagemaker) (1.7.7)\n",
      "Requirement already satisfied: dill>=0.4.0 in /home/ec2-user/anaconda3/envs/python3/lib/python3.10/site-packages (from pathos->sagemaker) (0.4.0)\n",
      "Requirement already satisfied: pox>=0.3.6 in /home/ec2-user/anaconda3/envs/python3/lib/python3.10/site-packages (from pathos->sagemaker) (0.3.6)\n",
      "Requirement already satisfied: multiprocess>=0.70.18 in /home/ec2-user/anaconda3/envs/python3/lib/python3.10/site-packages (from pathos->sagemaker) (0.70.18)\n",
      "Requirement already satisfied: click>=7.0 in /home/ec2-user/anaconda3/envs/python3/lib/python3.10/site-packages (from uvicorn->sagemaker) (8.1.8)\n",
      "Requirement already satisfied: h11>=0.8 in /home/ec2-user/anaconda3/envs/python3/lib/python3.10/site-packages (from uvicorn->sagemaker) (0.16.0)\n",
      "AWS SageMaker packages installed successfully!\n"
     ]
    }
   ],
   "source": [
    "# AWS SageMaker Deployment Setup\n",
    "# First, install required AWS packages\n",
    "!pip install sagemaker boto3\n",
    "\n",
    "import boto3\n",
    "import sagemaker\n",
    "from sagemaker import get_execution_role\n",
    "import pickle\n",
    "import tarfile\n",
    "import os\n",
    "from datetime import datetime\n",
    "import json\n",
    "\n",
    "print(\"AWS SageMaker packages installed successfully!\")"
   ]
  },
  {
   "cell_type": "code",
   "execution_count": 27,
   "id": "aed3eb61-ba1e-404d-91da-f23a131cb02e",
   "metadata": {
    "tags": []
   },
   "outputs": [
    {
     "name": "stdout",
     "output_type": "stream",
     "text": [
      "SageMaker Role: arn:aws:iam::151182331915:role/YOLO11SageMakerStack-yolo11notebookAccessRole4FE3B3-EdP6dF8ALap0\n",
      "S3 Bucket: yolo11sagemakerstack-yolo11s31ff79126-3g6ezijge4tc\n"
     ]
    }
   ],
   "source": [
    "# Configure AWS SageMaker\n",
    "try:\n",
    "    # Initialize SageMaker session\n",
    "    sagemaker_session = sagemaker.Session()\n",
    "    \n",
    "    # Get execution role (works in SageMaker Studio/Notebook instances)\n",
    "    role = get_execution_role()\n",
    "    \n",
    "    # Get default S3 bucket\n",
    "    # bucket = sagemaker_session.default_bucket()\n",
    "    bucket = \"yolo11sagemakerstack-yolo11s31ff79126-3g6ezijge4tc\"\n",
    "    \n",
    "    print(f\"SageMaker Role: {role}\")\n",
    "    print(f\"S3 Bucket: {bucket}\")\n",
    "    \n",
    "except Exception as e:\n",
    "    print(\"Note: This cell requires AWS credentials and SageMaker permissions.\")\n",
    "    print(\"If running locally, configure AWS CLI first: 'aws configure'\")\n",
    "    print(f\"Error: {e}\")\n",
    "    \n",
    "    # For local development, you can manually set these\n",
    "    # role = 'arn:aws:iam::YOUR-ACCOUNT-ID:role/SageMakerExecutionRole'\n",
    "    # bucket = 'your-sagemaker-bucket'"
   ]
  },
  {
   "cell_type": "code",
   "execution_count": 35,
   "id": "f86e983b-af5a-4b89-bd40-80a8fa66bb60",
   "metadata": {
    "tags": []
   },
   "outputs": [
    {
     "name": "stdout",
     "output_type": "stream",
     "text": [
      "Inference script created successfully!\n"
     ]
    }
   ],
   "source": [
    "# Create inference script for SageMaker\n",
    "inference_code = '''\n",
    "import os\n",
    "import pickle\n",
    "import json\n",
    "import pandas as pd\n",
    "from prophet import Prophet\n",
    "import numpy as np\n",
    "from datetime import datetime, timedelta\n",
    "\n",
    "def model_fn(model_dir):\n",
    "    \"\"\"Load the Prophet model from the model_dir\"\"\"\n",
    "    model_path = os.path.join(model_dir, 'prophet_model.pkl')\n",
    "    with open(model_path, 'rb') as f:\n",
    "        model = pickle.load(f)\n",
    "    return model\n",
    "\n",
    "def input_fn(request_body, content_type='application/json'):\n",
    "    \"\"\"Parse input data for inference\"\"\"\n",
    "    if content_type == 'application/json':\n",
    "        input_data = json.loads(request_body)\n",
    "        return input_data\n",
    "    else:\n",
    "        raise ValueError(f\"Unsupported content type: {content_type}\")\n",
    "\n",
    "def predict_fn(input_data, model):\n",
    "    \"\"\"Make predictions using the Prophet model\"\"\"\n",
    "    try:\n",
    "        # Extract parameters from input\n",
    "        forecast_days = input_data.get('forecast_days', 30)\n",
    "        start_date = input_data.get('start_date', None)\n",
    "        \n",
    "        # Create future dataframe\n",
    "        if start_date:\n",
    "            # If start_date provided, forecast from that date\n",
    "            future_dates = pd.date_range(start=start_date, periods=forecast_days, freq='D')\n",
    "            future = pd.DataFrame({'ds': future_dates})\n",
    "        else:\n",
    "            # Otherwise, forecast from the end of training data\n",
    "            future = model.make_future_dataframe(periods=forecast_days, freq='D')\n",
    "        \n",
    "        # Make predictions\n",
    "        forecast = model.predict(future)\n",
    "        \n",
    "        # Extract relevant columns and convert to native Python types\n",
    "        predictions = []\n",
    "        for _, row in forecast.tail(forecast_days).iterrows():\n",
    "            predictions.append({\n",
    "                'date': row['ds'].strftime('%Y-%m-%d'),\n",
    "                'predicted_price': float(row['yhat']),\n",
    "                'lower_bound': float(row['yhat_lower']),\n",
    "                'upper_bound': float(row['yhat_upper']),\n",
    "                'trend': float(row['trend']) if 'trend' in row else None\n",
    "            })\n",
    "        \n",
    "        return {\n",
    "            'predictions': predictions,\n",
    "            'forecast_days': forecast_days,\n",
    "            'model_info': {\n",
    "                'model_type': 'Facebook Prophet',\n",
    "                'prediction_timestamp': datetime.now().isoformat()\n",
    "            }\n",
    "        }\n",
    "        \n",
    "    except Exception as e:\n",
    "        return {\n",
    "            'error': str(e),\n",
    "            'predictions': []\n",
    "        }\n",
    "\n",
    "def output_fn(prediction, accept='application/json'):\n",
    "    \"\"\"Format the prediction output\"\"\"\n",
    "    if accept == 'application/json':\n",
    "        return json.dumps(prediction), 'application/json'\n",
    "    else:\n",
    "        raise ValueError(f\"Unsupported accept type: {accept}\")\n",
    "'''\n",
    "\n",
    "print(\"Inference script created successfully!\")"
   ]
  },
  {
   "cell_type": "code",
   "execution_count": 49,
   "id": "3857645e-63be-4fc3-a1ab-01fcd48d177f",
   "metadata": {
    "tags": []
   },
   "outputs": [
    {
     "name": "stdout",
     "output_type": "stream",
     "text": [
      "✓ Model saved to: prophet_model_artifacts/prophet_model.pkl\n",
      "✓ Metadata saved to: prophet_model_artifacts/metadata.json\n",
      "✓ Inference script saved to: prophet_model_artifacts/code/inference.py\n",
      "✓ Requirements saved to: prophet_model_artifacts/code/requirements.txt\n",
      "Creating tarball with correct structure:\n",
      "  prophet_model.pkl\n",
      "  metadata.json\n",
      "  code/\n",
      "    ├── inference.py\n",
      "    └── requirements.txt\n",
      "✓ Model tarball created: AAPL_prophet_model.tar.gz\n",
      "Model artifacts ready for SageMaker deployment!\n"
     ]
    }
   ],
   "source": [
    "# Create model artifacts for SageMaker deployment\n",
    "model_dir = 'prophet_model_artifacts'\n",
    "code_dir = os.path.join(model_dir, 'code')\n",
    "os.makedirs(model_dir, exist_ok=True)\n",
    "os.makedirs(code_dir, exist_ok=True)\n",
    "\n",
    "# Save the trained Prophet model (in root of model_dir)\n",
    "model_path = os.path.join(model_dir, 'prophet_model.pkl')\n",
    "with open(model_path, 'wb') as f:\n",
    "    pickle.dump(model, f)\n",
    "\n",
    "# Save model metadata (in root of model_dir)\n",
    "metadata = {\n",
    "    'stock_symbol': STOCK_SYMBOL,\n",
    "    'training_period': f\"{START_DATE} to {END_DATE}\",\n",
    "    'model_performance': {\n",
    "        'mae': float(mae),\n",
    "        'rmse': float(rmse),\n",
    "        'mape': float(mape),\n",
    "        'r2': float(r2)\n",
    "    },\n",
    "    'created_at': datetime.now().isoformat()\n",
    "}\n",
    "\n",
    "metadata_path = os.path.join(model_dir, 'metadata.json')\n",
    "with open(metadata_path, 'w') as f:\n",
    "    json.dump(metadata, f, indent=2)\n",
    "\n",
    "# Save inference script (in code/ subdirectory)\n",
    "inference_script_path = os.path.join(code_dir, 'inference.py')\n",
    "with open(inference_script_path, 'w') as f:\n",
    "    f.write(inference_code)\n",
    "\n",
    "# Create requirements file (in code/ subdirectory)\n",
    "requirements = '''prophet==1.1.4\n",
    "pandas>=1.3.0\n",
    "numpy<2.0\n",
    "scikit-learn>=1.0.0\n",
    "torch==1.12\n",
    "torchvision>=0.9.1'''\n",
    "\n",
    "requirements_path = os.path.join(code_dir, 'requirements.txt')\n",
    "with open(requirements_path, 'w') as f:\n",
    "    f.write(requirements)\n",
    "\n",
    "print(f\"✓ Model saved to: {model_path}\")\n",
    "print(f\"✓ Metadata saved to: {metadata_path}\")\n",
    "print(f\"✓ Inference script saved to: {inference_script_path}\")\n",
    "print(f\"✓ Requirements saved to: {requirements_path}\")\n",
    "\n",
    "# Create model tarball with correct structure\n",
    "model_tar_path = f'{STOCK_SYMBOL}_prophet_model.tar.gz'\n",
    "\n",
    "print(\"Creating tarball with correct structure:\")\n",
    "print(\"  prophet_model.pkl\")\n",
    "print(\"  metadata.json\")\n",
    "print(\"  code/\")\n",
    "print(\"    ├── inference.py\")\n",
    "print(\"    └── requirements.txt\")\n",
    "\n",
    "with tarfile.open(model_tar_path, 'w:gz') as tar:\n",
    "    tar.add(model_dir, arcname='.')\n",
    "\n",
    "print(f\"✓ Model tarball created: {model_tar_path}\")\n",
    "print(\"Model artifacts ready for SageMaker deployment!\")\n",
    "\n",
    "# Cleanup temporary directory\n",
    "# import shutil\n",
    "# shutil.rmtree(model_dir)\n",
    "# print(\"✓ Temporary directory cleaned up\")"
   ]
  },
  {
   "cell_type": "code",
   "execution_count": 48,
   "id": "35eb2dec-0d3a-43c9-8d78-f3a6c8148622",
   "metadata": {
    "tags": []
   },
   "outputs": [
    {
     "name": "stdout",
     "output_type": "stream",
     "text": [
      "✓ Model uploaded to S3: s3://yolo11sagemakerstack-yolo11s31ff79126-3g6ezijge4tc/prophet-stock-model/AAPL_prophet_model.tar.gz\n",
      "Creating SageMaker model: prophet-aapl-model-1753178379\n",
      "Endpoint name: prophet-aapl-endpoint-1753178379\n",
      "✓ SageMaker model created successfully!\n"
     ]
    }
   ],
   "source": [
    "# Upload model to S3 and deploy to SageMaker\n",
    "try:\n",
    "    # Upload model tarball to S3\n",
    "    model_s3_uri = sagemaker_session.upload_data(\n",
    "        path=model_tar_path,\n",
    "        bucket=bucket,\n",
    "        key_prefix='prophet-stock-model'\n",
    "    )\n",
    "    \n",
    "    print(f\"✓ Model uploaded to S3: {model_s3_uri}\")\n",
    "    \n",
    "    # Create timestamp for unique naming\n",
    "    import time\n",
    "    timestamp = int(time.time())\n",
    "    model_name = f\"prophet-{STOCK_SYMBOL.lower()}-model-{timestamp}\"\n",
    "    endpoint_name = f\"prophet-{STOCK_SYMBOL.lower()}-endpoint-{timestamp}\"\n",
    "    \n",
    "    print(f\"Creating SageMaker model: {model_name}\")\n",
    "    print(f\"Endpoint name: {endpoint_name}\")\n",
    "    \n",
    "    # Create SageMaker model using PyTorch container (better for custom inference)\n",
    "    from sagemaker.pytorch.model import PyTorchModel\n",
    "    \n",
    "    prophet_model = PyTorchModel(\n",
    "        model_data=model_s3_uri,\n",
    "        role=role,\n",
    "        entry_point='inference.py',\n",
    "        framework_version='1.8.1',  # PyTorch version\n",
    "        py_version='py3',\n",
    "        name=model_name,\n",
    "        sagemaker_session=sagemaker_session\n",
    "    )\n",
    "    \n",
    "    print(\"✓ SageMaker model created successfully!\")\n",
    "    \n",
    "except Exception as e:\n",
    "    print(f\"Error in model creation: {e}\")\n"
   ]
  },
  {
   "cell_type": "code",
   "execution_count": 50,
   "id": "c2ac4ef6-d16c-4119-9a59-1da811bb11ea",
   "metadata": {
    "tags": []
   },
   "outputs": [
    {
     "name": "stdout",
     "output_type": "stream",
     "text": [
      "✓ Model uploaded to S3: s3://yolo11sagemakerstack-yolo11s31ff79126-3g6ezijge4tc/prophet-stock-model/AAPL_prophet_model.tar.gz\n",
      "Creating SageMaker model: prophet-aapl-model-1753178417\n",
      "Endpoint name: prophet-aapl-endpoint-1753178417\n",
      "✓ SageMaker model created successfully!\n"
     ]
    }
   ],
   "source": [
    "# Upload model to S3 and deploy to SageMaker\n",
    "try:\n",
    "    # Upload model tarball to S3\n",
    "    model_s3_uri = sagemaker_session.upload_data(\n",
    "        path=model_tar_path,\n",
    "        bucket=bucket,\n",
    "        key_prefix='prophet-stock-model'\n",
    "    )\n",
    "    \n",
    "    print(f\"✓ Model uploaded to S3: {model_s3_uri}\")\n",
    "    \n",
    "    # Create timestamp for unique naming\n",
    "    import time\n",
    "    timestamp = int(time.time())\n",
    "    model_name = f\"prophet-{STOCK_SYMBOL.lower()}-model-{timestamp}\"\n",
    "    endpoint_name = f\"prophet-{STOCK_SYMBOL.lower()}-endpoint-{timestamp}\"\n",
    "    \n",
    "    print(f\"Creating SageMaker model: {model_name}\")\n",
    "    print(f\"Endpoint name: {endpoint_name}\")\n",
    "    \n",
    "    # Create SageMaker model using PyTorch container (better for custom inference)\n",
    "    from sagemaker.pytorch.model import PyTorchModel\n",
    "    \n",
    "    prophet_model = PyTorchModel(\n",
    "        model_data=model_s3_uri,\n",
    "        role=role,\n",
    "        entry_point='inference.py',\n",
    "        framework_version='1.12',  # PyTorch version\n",
    "        py_version='py38',\n",
    "        name=model_name,\n",
    "        sagemaker_session=sagemaker_session\n",
    "    )\n",
    "    \n",
    "    print(\"✓ SageMaker model created successfully!\")\n",
    "    \n",
    "except Exception as e:\n",
    "    print(f\"Error in model creation: {e}\")\n"
   ]
  },
  {
   "cell_type": "code",
   "execution_count": null,
   "id": "88f25c68-109b-4eb8-ade9-edfaa80854c7",
   "metadata": {},
   "outputs": [],
   "source": []
  },
  {
   "cell_type": "code",
   "execution_count": 51,
   "id": "3009a8c8-b347-4679-9329-5c09f2e91edf",
   "metadata": {
    "tags": []
   },
   "outputs": [
    {
     "name": "stdout",
     "output_type": "stream",
     "text": [
      "Deploying model to endpoint: prophet-aapl-endpoint-1753178417\n",
      "This may take 5-10 minutes...\n",
      "☕ Perfect time for a coffee break!\n",
      "---------!🎉 Model deployed successfully!\n",
      "Endpoint Name: prophet-aapl-endpoint-1753178417\n",
      "Endpoint Status: InService\n",
      "Endpoint info saved to: AAPL_endpoint_info.json\n"
     ]
    }
   ],
   "source": [
    "# Deploy model to SageMaker endpoint\n",
    "try:\n",
    "    print(f\"Deploying model to endpoint: {endpoint_name}\")\n",
    "    print(\"This may take 5-10 minutes...\")\n",
    "    print(\"☕ Perfect time for a coffee break!\")\n",
    "    \n",
    "    # Deploy to endpoint\n",
    "    predictor = prophet_model.deploy(\n",
    "        initial_instance_count=1,\n",
    "        instance_type='ml.t2.medium', \n",
    "        endpoint_name=endpoint_name\n",
    "    )\n",
    "    \n",
    "    print(\"🎉 Model deployed successfully!\")\n",
    "    print(f\"Endpoint Name: {endpoint_name}\")\n",
    "    print(f\"Endpoint Status: InService\")\n",
    "    \n",
    "    # Save endpoint info for later use\n",
    "    endpoint_info = {\n",
    "        'endpoint_name': endpoint_name,\n",
    "        'model_name': model_name,\n",
    "        'stock_symbol': STOCK_SYMBOL,\n",
    "        'deployment_time': datetime.now().isoformat(),\n",
    "        'instance_type': 'ml.t2.medium',\n",
    "        'region': sagemaker_session.boto_region_name\n",
    "    }\n",
    "    \n",
    "    with open(f'{STOCK_SYMBOL}_endpoint_info.json', 'w') as f:\n",
    "        json.dump(endpoint_info, f, indent=2)\n",
    "    \n",
    "    print(f\"Endpoint info saved to: {STOCK_SYMBOL}_endpoint_info.json\")\n",
    "    \n",
    "except Exception as e:\n",
    "    print(f\"Deployment failed: {e}\")\n",
    "    print(\"Common issues:\")\n",
    "    print(\"1. Insufficient service limits (check AWS console)\")\n",
    "    print(\"2. Role permissions (run setup_iam.py script)\")\n",
    "    print(\"3. Region availability (try us-east-1)\")"
   ]
  },
  {
   "cell_type": "code",
   "execution_count": 54,
   "id": "3e9b2870-e717-4161-b592-35b94d17012b",
   "metadata": {
    "tags": []
   },
   "outputs": [
    {
     "name": "stdout",
     "output_type": "stream",
     "text": [
      "Testing the deployed endpoint...\n",
      "\n",
      "--- 7-day forecast ---\n",
      "✓ Success - 7 predictions received\n",
      "First prediction: 2023-03-14 - $150.64\n",
      "Last prediction:  2023-03-20 - $154.59\n",
      "\n",
      "--- 30-day forecast ---\n",
      "✓ Success - 30 predictions received\n",
      "First prediction: 2023-03-14 - $150.64\n",
      "Last prediction:  2023-04-12 - $164.62\n",
      "\n",
      "--- Next day prediction ---\n",
      "✓ Success - 1 predictions received\n",
      "First prediction: 2023-03-14 - $150.64\n",
      "\n",
      "🎉 Endpoint testing completed!\n",
      "Your endpoint 'prophet-aapl-endpoint-1753178417' is ready for use!\n"
     ]
    }
   ],
   "source": [
    "# Test the deployed endpoint\n",
    "try:\n",
    "    print(\"Testing the deployed endpoint...\")\n",
    "    \n",
    "    # Configure predictor to use JSON serialization\n",
    "    from sagemaker.serializers import JSONSerializer\n",
    "    from sagemaker.deserializers import JSONDeserializer\n",
    "    \n",
    "    predictor.serializer = JSONSerializer()\n",
    "    predictor.deserializer = JSONDeserializer()\n",
    "    \n",
    "    # Test with different scenarios\n",
    "    test_cases = [\n",
    "        {'forecast_days': 7, 'description': '7-day forecast'},\n",
    "        {'forecast_days': 30, 'description': '30-day forecast'},\n",
    "        {'forecast_days': 1, 'description': 'Next day prediction'}\n",
    "    ]\n",
    "    \n",
    "    for test_case in test_cases:\n",
    "        print(f\"\\n--- {test_case['description']} ---\")\n",
    "        \n",
    "        # Prepare test data\n",
    "        test_data = {\n",
    "            'forecast_days': test_case['forecast_days']\n",
    "        }\n",
    "        \n",
    "        try:\n",
    "            # Make prediction with explicit JSON serialization\n",
    "            result = predictor.predict(test_data)\n",
    "            \n",
    "            if isinstance(result, dict) and 'error' not in result:\n",
    "                print(f\"✓ Success - {len(result.get('predictions', []))} predictions received\")\n",
    "                \n",
    "                # Show first and last predictions\n",
    "                predictions = result.get('predictions', [])\n",
    "                if predictions:\n",
    "                    first_pred = predictions[0]\n",
    "                    last_pred = predictions[-1]\n",
    "                    \n",
    "                    print(f\"First prediction: {first_pred['date']} - ${first_pred['predicted_price']:.2f}\")\n",
    "                    if len(predictions) > 1:\n",
    "                        print(f\"Last prediction:  {last_pred['date']} - ${last_pred['predicted_price']:.2f}\")\n",
    "            else:\n",
    "                error_msg = result.get('error', 'Unknown error') if isinstance(result, dict) else str(result)\n",
    "                print(f\"✗ Error: {error_msg}\")\n",
    "                \n",
    "        except Exception as case_error:\n",
    "            print(f\"✗ Test case failed: {case_error}\")\n",
    "    \n",
    "    print(\"\\n🎉 Endpoint testing completed!\")\n",
    "    print(f\"Your endpoint '{endpoint_name}' is ready for use!\")\n",
    "    \n",
    "except Exception as e:\n",
    "    print(f\"Testing failed: {e}\")\n",
    "    \n",
    "    # Alternative test using boto3 directly\n",
    "    print(\"\\nTrying alternative test method using boto3...\")\n",
    "    try:\n",
    "        import boto3\n",
    "        import json\n",
    "        \n",
    "        runtime = boto3.client('sagemaker-runtime', region_name=sagemaker_session.boto_region_name)\n",
    "        \n",
    "        test_payload = {\n",
    "            'forecast_days': 7\n",
    "        }\n",
    "        \n",
    "        response = runtime.invoke_endpoint(\n",
    "            EndpointName=endpoint_name,\n",
    "            ContentType='application/json',\n",
    "            Body=json.dumps(test_payload)\n",
    "        )\n",
    "        \n",
    "        result = json.loads(response['Body'].read().decode())\n",
    "        \n",
    "        if 'predictions' in result:\n",
    "            print(f\"✓ Alternative test successful - {len(result['predictions'])} predictions\")\n",
    "            if result['predictions']:\n",
    "                first_pred = result['predictions'][0]\n",
    "                print(f\"Sample prediction: {first_pred['date']} - ${first_pred['predicted_price']:.2f}\")\n",
    "        else:\n",
    "            print(f\"✗ Alternative test failed: {result}\")\n",
    "            \n",
    "    except Exception as alt_error:\n",
    "        print(f\"Alternative test also failed: {alt_error}\")\n",
    "        print(\"The endpoint might still be starting up. Wait a few minutes and try again.\")"
   ]
  },
  {
   "cell_type": "code",
   "execution_count": null,
   "id": "018ba485-658b-417c-80e8-af41467fb58e",
   "metadata": {},
   "outputs": [],
   "source": []
  }
 ],
 "metadata": {
  "kernelspec": {
   "display_name": "conda_python3",
   "language": "python",
   "name": "conda_python3"
  },
  "language_info": {
   "codemirror_mode": {
    "name": "ipython",
    "version": 3
   },
   "file_extension": ".py",
   "mimetype": "text/x-python",
   "name": "python",
   "nbconvert_exporter": "python",
   "pygments_lexer": "ipython3",
   "version": "3.10.18"
  }
 },
 "nbformat": 4,
 "nbformat_minor": 5
}
