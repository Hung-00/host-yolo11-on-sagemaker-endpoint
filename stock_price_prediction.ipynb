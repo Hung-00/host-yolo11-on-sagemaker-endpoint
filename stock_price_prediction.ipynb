{
 "cells": [
  {
   "cell_type": "markdown",
   "metadata": {},
   "source": [
    "# Stock Price Prediction with Machine Learning\n",
    "\n",
    "This notebook demonstrates how to build a machine learning model to predict stock prices using historical data."
   ]
  },
  {
   "cell_type": "code",
   "execution_count": null,
   "metadata": {},
   "outputs": [],
   "source": [
    "import pandas as pd\n",
    "import numpy as np\n",
    "import matplotlib.pyplot as plt\n",
    "import seaborn as sns\n",
    "from sklearn.model_selection import train_test_split\n",
    "from sklearn.preprocessing import StandardScaler, MinMaxScaler\n",
    "from sklearn.ensemble import RandomForestRegressor\n",
    "from sklearn.linear_model import LinearRegression\n",
    "from sklearn.metrics import mean_squared_error, mean_absolute_error, r2_score\n",
    "import yfinance as yf\n",
    "from datetime import datetime, timedelta\n",
    "import warnings\n",
    "warnings.filterwarnings('ignore')\n",
    "\n",
    "plt.style.use('seaborn-v0_8')\n",
    "sns.set_palette(\"husl\")"
   ]
  },
  {
   "cell_type": "markdown",
   "metadata": {},
   "source": [
    "## 1. Data Collection\n",
    "\n",
    "We'll use Yahoo Finance API to fetch historical stock data."
   ]
  },
  {
   "cell_type": "code",
   "execution_count": null,
   "metadata": {},
   "outputs": [],
   "source": [
    "# Define stock symbol and date range\n",
    "STOCK_SYMBOL = 'AAPL'  # Apple Inc.\n",
    "START_DATE = '2020-01-01'\n",
    "END_DATE = datetime.now().strftime('%Y-%m-%d')\n",
    "\n",
    "# Fetch stock data\n",
    "print(f\"Fetching data for {STOCK_SYMBOL} from {START_DATE} to {END_DATE}\")\n",
    "stock_data = yf.download(STOCK_SYMBOL, start=START_DATE, end=END_DATE)\n",
    "\n",
    "print(f\"Data shape: {stock_data.shape}\")\n",
    "print(f\"Date range: {stock_data.index.min()} to {stock_data.index.max()}\")\n",
    "stock_data.head()"
   ]
  },
  {
   "cell_type": "markdown",
   "metadata": {},
   "source": [
    "## 2. Data Exploration"
   ]
  },
  {
   "cell_type": "code",
   "execution_count": null,
   "metadata": {},
   "outputs": [],
   "source": [
    "# Basic statistics\n",
    "print(\"Dataset Info:\")\n",
    "print(stock_data.info())\n",
    "print(\"\\nBasic Statistics:\")\n",
    "print(stock_data.describe())\n",
    "\n",
    "# Check for missing values\n",
    "print(\"\\nMissing Values:\")\n",
    "print(stock_data.isnull().sum())"
   ]
  },
  {
   "cell_type": "code",
   "execution_count": null,
   "metadata": {},
   "outputs": [],
   "source": [
    "# Visualize stock price trends\n",
    "fig, axes = plt.subplots(2, 2, figsize=(15, 12))\n",
    "fig.suptitle(f'{STOCK_SYMBOL} Stock Analysis', fontsize=16)\n",
    "\n",
    "# Price trends\n",
    "axes[0, 0].plot(stock_data.index, stock_data['Close'], label='Close Price', linewidth=1)\n",
    "axes[0, 0].set_title('Close Price Over Time')\n",
    "axes[0, 0].set_ylabel('Price ($)')\n",
    "axes[0, 0].legend()\n",
    "axes[0, 0].grid(True, alpha=0.3)\n",
    "\n",
    "# Volume\n",
    "axes[0, 1].plot(stock_data.index, stock_data['Volume'], color='orange', linewidth=1)\n",
    "axes[0, 1].set_title('Trading Volume Over Time')\n",
    "axes[0, 1].set_ylabel('Volume')\n",
    "axes[0, 1].grid(True, alpha=0.3)\n",
    "\n",
    "# Price distribution\n",
    "axes[1, 0].hist(stock_data['Close'], bins=50, alpha=0.7, color='skyblue', edgecolor='black')\n",
    "axes[1, 0].set_title('Close Price Distribution')\n",
    "axes[1, 0].set_xlabel('Price ($)')\n",
    "axes[1, 0].set_ylabel('Frequency')\n",
    "axes[1, 0].grid(True, alpha=0.3)\n",
    "\n",
    "# Daily returns\n",
    "daily_returns = stock_data['Close'].pct_change().dropna()\n",
    "axes[1, 1].hist(daily_returns, bins=50, alpha=0.7, color='lightgreen', edgecolor='black')\n",
    "axes[1, 1].set_title('Daily Returns Distribution')\n",
    "axes[1, 1].set_xlabel('Daily Return')\n",
    "axes[1, 1].set_ylabel('Frequency')\n",
    "axes[1, 1].grid(True, alpha=0.3)\n",
    "\n",
    "plt.tight_layout()\n",
    "plt.show()"
   ]
  },
  {
   "cell_type": "markdown",
   "metadata": {},
   "source": [
    "## 3. Feature Engineering\n",
    "\n",
    "Create technical indicators and features for prediction."
   ]
  },
  {
   "cell_type": "code",
   "execution_count": null,
   "metadata": {},
   "outputs": [],
   "source": "def create_features(data):\n    df = data.copy()\n    \n    # Flatten column names if they are MultiIndex (from yfinance)\n    if isinstance(df.columns, pd.MultiIndex):\n        df.columns = df.columns.get_level_values(0)\n    \n    # Price features\n    df['Price_Range'] = df['High'] - df['Low']\n    df['Price_Change'] = df['Close'] - df['Open']\n    df['Price_Change_Pct'] = (df['Price_Change'] / df['Open']) * 100\n    \n    # Moving averages\n    df['MA_5'] = df['Close'].rolling(window=5).mean()\n    df['MA_10'] = df['Close'].rolling(window=10).mean()\n    df['MA_20'] = df['Close'].rolling(window=20).mean()\n    df['MA_50'] = df['Close'].rolling(window=50).mean()\n    \n    # Relative position to moving averages\n    df['Close_MA5_Ratio'] = df['Close'] / df['MA_5']\n    df['Close_MA20_Ratio'] = df['Close'] / df['MA_20']\n    \n    # Volatility (rolling standard deviation)\n    df['Volatility_5'] = df['Close'].rolling(window=5).std()\n    df['Volatility_20'] = df['Close'].rolling(window=20).std()\n    \n    # RSI (Relative Strength Index)\n    delta = df['Close'].diff()\n    gain = (delta.where(delta > 0, 0)).rolling(window=14).mean()\n    loss = (-delta.where(delta < 0, 0)).rolling(window=14).mean()\n    rs = gain / loss\n    df['RSI'] = 100 - (100 / (1 + rs))\n    \n    # Bollinger Bands\n    df['BB_Middle'] = df['Close'].rolling(window=20).mean()\n    df['BB_Upper'] = df['BB_Middle'] + 2 * df['Close'].rolling(window=20).std()\n    df['BB_Lower'] = df['BB_Middle'] - 2 * df['Close'].rolling(window=20).std()\n    df['BB_Position'] = (df['Close'] - df['BB_Lower']) / (df['BB_Upper'] - df['BB_Lower'])\n    \n    # Lagged features\n    for lag in [1, 2, 3, 5, 10]:\n        df[f'Close_Lag_{lag}'] = df['Close'].shift(lag)\n        df[f'Volume_Lag_{lag}'] = df['Volume'].shift(lag)\n    \n    # Target variable (next day's closing price)\n    df['Target'] = df['Close'].shift(-1)\n    \n    return df\n\n# Create features\ndf_features = create_features(stock_data)\nprint(f\"Features created. Shape: {df_features.shape}\")\nprint(f\"\\nFeature columns: {df_features.columns.tolist()}\")"
  },
  {
   "cell_type": "markdown",
   "metadata": {},
   "source": [
    "## 4. Data Preprocessing"
   ]
  },
  {
   "cell_type": "code",
   "execution_count": null,
   "metadata": {},
   "outputs": [],
   "source": [
    "# Remove rows with NaN values\n",
    "df_clean = df_features.dropna()\n",
    "print(f\"After removing NaN values: {df_clean.shape}\")\n",
    "\n",
    "# Select features for modeling\n",
    "feature_columns = [\n",
    "    'Open', 'High', 'Low', 'Volume',\n",
    "    'Price_Range', 'Price_Change', 'Price_Change_Pct',\n",
    "    'MA_5', 'MA_10', 'MA_20', 'MA_50',\n",
    "    'Close_MA5_Ratio', 'Close_MA20_Ratio',\n",
    "    'Volatility_5', 'Volatility_20',\n",
    "    'RSI', 'BB_Position',\n",
    "    'Close_Lag_1', 'Close_Lag_2', 'Close_Lag_3', 'Close_Lag_5', 'Close_Lag_10',\n",
    "    'Volume_Lag_1', 'Volume_Lag_2', 'Volume_Lag_3', 'Volume_Lag_5', 'Volume_Lag_10'\n",
    "]\n",
    "\n",
    "X = df_clean[feature_columns]\n",
    "y = df_clean['Target']\n",
    "\n",
    "print(f\"Feature matrix shape: {X.shape}\")\n",
    "print(f\"Target vector shape: {y.shape}\")\n",
    "\n",
    "# Split data into training and testing sets\n",
    "X_train, X_test, y_train, y_test = train_test_split(\n",
    "    X, y, test_size=0.2, random_state=42, shuffle=False\n",
    ")\n",
    "\n",
    "print(f\"\\nTraining set: {X_train.shape}\")\n",
    "print(f\"Test set: {X_test.shape}\")\n",
    "\n",
    "# Scale the features\n",
    "scaler = StandardScaler()\n",
    "X_train_scaled = scaler.fit_transform(X_train)\n",
    "X_test_scaled = scaler.transform(X_test)\n",
    "\n",
    "print(\"\\nFeatures scaled successfully!\")"
   ]
  },
  {
   "cell_type": "markdown",
   "metadata": {},
   "source": [
    "## 5. Model Training\n",
    "\n",
    "Train multiple machine learning models and compare their performance."
   ]
  },
  {
   "cell_type": "code",
   "execution_count": null,
   "metadata": {},
   "outputs": [],
   "source": [
    "# Initialize models\n",
    "models = {\n",
    "    'Linear Regression': LinearRegression(),\n",
    "    'Random Forest': RandomForestRegressor(n_estimators=100, random_state=42, n_jobs=-1)\n",
    "}\n",
    "\n",
    "# Train and evaluate models\n",
    "results = {}\n",
    "\n",
    "for name, model in models.items():\n",
    "    print(f\"Training {name}...\")\n",
    "    \n",
    "    # Train model\n",
    "    if name == 'Linear Regression':\n",
    "        model.fit(X_train_scaled, y_train)\n",
    "        y_pred = model.predict(X_test_scaled)\n",
    "    else:\n",
    "        model.fit(X_train, y_train)\n",
    "        y_pred = model.predict(X_test)\n",
    "    \n",
    "    # Calculate metrics\n",
    "    mse = mean_squared_error(y_test, y_pred)\n",
    "    mae = mean_absolute_error(y_test, y_pred)\n",
    "    r2 = r2_score(y_test, y_pred)\n",
    "    rmse = np.sqrt(mse)\n",
    "    \n",
    "    results[name] = {\n",
    "        'model': model,\n",
    "        'predictions': y_pred,\n",
    "        'MSE': mse,\n",
    "        'MAE': mae,\n",
    "        'RMSE': rmse,\n",
    "        'R²': r2\n",
    "    }\n",
    "    \n",
    "    print(f\"  MSE: {mse:.4f}\")\n",
    "    print(f\"  MAE: {mae:.4f}\")\n",
    "    print(f\"  RMSE: {rmse:.4f}\")\n",
    "    print(f\"  R²: {r2:.4f}\")\n",
    "    print()\n",
    "\n",
    "print(\"Model training completed!\")"
   ]
  },
  {
   "cell_type": "markdown",
   "metadata": {},
   "source": [
    "## 6. Model Evaluation and Visualization"
   ]
  },
  {
   "cell_type": "code",
   "execution_count": null,
   "metadata": {},
   "outputs": [],
   "source": [
    "# Create evaluation metrics table\n",
    "metrics_df = pd.DataFrame({\n",
    "    'Model': list(results.keys()),\n",
    "    'MSE': [results[model]['MSE'] for model in results],\n",
    "    'MAE': [results[model]['MAE'] for model in results],\n",
    "    'RMSE': [results[model]['RMSE'] for model in results],\n",
    "    'R²': [results[model]['R²'] for model in results]\n",
    "})\n",
    "\n",
    "print(\"Model Performance Comparison:\")\n",
    "print(metrics_df.round(4))"
   ]
  },
  {
   "cell_type": "code",
   "execution_count": null,
   "metadata": {},
   "outputs": [],
   "source": [
    "# Visualize predictions vs actual values\n",
    "fig, axes = plt.subplots(2, 2, figsize=(15, 12))\n",
    "fig.suptitle('Model Predictions vs Actual Values', fontsize=16)\n",
    "\n",
    "# Time series comparison\n",
    "test_dates = df_clean.index[-len(y_test):]\n",
    "axes[0, 0].plot(test_dates, y_test.values, label='Actual', linewidth=2, alpha=0.8)\n",
    "for name, result in results.items():\n",
    "    axes[0, 0].plot(test_dates, result['predictions'], label=f'{name} Prediction', linewidth=1, alpha=0.7)\n",
    "axes[0, 0].set_title('Time Series Prediction Comparison')\n",
    "axes[0, 0].set_ylabel('Stock Price ($)')\n",
    "axes[0, 0].legend()\n",
    "axes[0, 0].grid(True, alpha=0.3)\n",
    "\n",
    "# Scatter plot for Linear Regression\n",
    "lr_pred = results['Linear Regression']['predictions']\n",
    "axes[0, 1].scatter(y_test, lr_pred, alpha=0.6, color='blue')\n",
    "axes[0, 1].plot([y_test.min(), y_test.max()], [y_test.min(), y_test.max()], 'r--', lw=2)\n",
    "axes[0, 1].set_title('Linear Regression: Predicted vs Actual')\n",
    "axes[0, 1].set_xlabel('Actual Price ($)')\n",
    "axes[0, 1].set_ylabel('Predicted Price ($)')\n",
    "axes[0, 1].grid(True, alpha=0.3)\n",
    "\n",
    "# Scatter plot for Random Forest\n",
    "rf_pred = results['Random Forest']['predictions']\n",
    "axes[1, 0].scatter(y_test, rf_pred, alpha=0.6, color='green')\n",
    "axes[1, 0].plot([y_test.min(), y_test.max()], [y_test.min(), y_test.max()], 'r--', lw=2)\n",
    "axes[1, 0].set_title('Random Forest: Predicted vs Actual')\n",
    "axes[1, 0].set_xlabel('Actual Price ($)')\n",
    "axes[1, 0].set_ylabel('Predicted Price ($)')\n",
    "axes[1, 0].grid(True, alpha=0.3)\n",
    "\n",
    "# Residuals plot\n",
    "rf_residuals = y_test.values - rf_pred\n",
    "axes[1, 1].scatter(rf_pred, rf_residuals, alpha=0.6, color='red')\n",
    "axes[1, 1].axhline(y=0, color='black', linestyle='--')\n",
    "axes[1, 1].set_title('Random Forest: Residuals Plot')\n",
    "axes[1, 1].set_xlabel('Predicted Price ($)')\n",
    "axes[1, 1].set_ylabel('Residuals ($)')\n",
    "axes[1, 1].grid(True, alpha=0.3)\n",
    "\n",
    "plt.tight_layout()\n",
    "plt.show()"
   ]
  },
  {
   "cell_type": "markdown",
   "metadata": {},
   "source": [
    "## 7. Feature Importance Analysis"
   ]
  },
  {
   "cell_type": "code",
   "execution_count": null,
   "metadata": {},
   "outputs": [],
   "source": [
    "# Feature importance for Random Forest\n",
    "rf_model = results['Random Forest']['model']\n",
    "feature_importance = pd.DataFrame({\n",
    "    'Feature': feature_columns,\n",
    "    'Importance': rf_model.feature_importances_\n",
    "}).sort_values('Importance', ascending=False)\n",
    "\n",
    "# Plot feature importance\n",
    "plt.figure(figsize=(12, 8))\n",
    "top_features = feature_importance.head(15)\n",
    "plt.barh(range(len(top_features)), top_features['Importance'], color='skyblue')\n",
    "plt.yticks(range(len(top_features)), top_features['Feature'])\n",
    "plt.xlabel('Feature Importance')\n",
    "plt.title('Top 15 Feature Importances (Random Forest)')\n",
    "plt.gca().invert_yaxis()\n",
    "plt.grid(True, alpha=0.3)\n",
    "plt.tight_layout()\n",
    "plt.show()\n",
    "\n",
    "print(\"Top 10 Most Important Features:\")\n",
    "print(feature_importance.head(10))"
   ]
  },
  {
   "cell_type": "markdown",
   "metadata": {},
   "source": [
    "## 8. Make Future Predictions"
   ]
  },
  {
   "cell_type": "code",
   "execution_count": null,
   "metadata": {},
   "outputs": [],
   "source": [
    "# Use the best performing model for future predictions\n",
    "best_model_name = metrics_df.loc[metrics_df['R²'].idxmax(), 'Model']\n",
    "best_model = results[best_model_name]['model']\n",
    "\n",
    "print(f\"Best performing model: {best_model_name}\")\n",
    "print(f\"R² Score: {results[best_model_name]['R²']:.4f}\")\n",
    "\n",
    "# Get the last row of features for prediction\n",
    "last_features = X.iloc[-1:]\n",
    "print(f\"\\nLast known closing price: ${df_clean['Close'].iloc[-1]:.2f}\")\n",
    "\n",
    "# Make prediction\n",
    "if best_model_name == 'Linear Regression':\n",
    "    last_features_scaled = scaler.transform(last_features)\n",
    "    next_day_prediction = best_model.predict(last_features_scaled)[0]\n",
    "else:\n",
    "    next_day_prediction = best_model.predict(last_features)[0]\n",
    "\n",
    "print(f\"Predicted next day closing price: ${next_day_prediction:.2f}\")\n",
    "print(f\"Predicted change: ${next_day_prediction - df_clean['Close'].iloc[-1]:.2f}\")\n",
    "print(f\"Predicted change (%): {((next_day_prediction - df_clean['Close'].iloc[-1]) / df_clean['Close'].iloc[-1] * 100):.2f}%\")"
   ]
  },
  {
   "cell_type": "markdown",
   "metadata": {},
   "source": [
    "## 9. Model Summary and Conclusions"
   ]
  },
  {
   "cell_type": "code",
   "execution_count": null,
   "metadata": {},
   "outputs": [],
   "source": [
    "print(\"=\" * 60)\n",
    "print(\"STOCK PRICE PREDICTION MODEL SUMMARY\")\n",
    "print(\"=\" * 60)\n",
    "print(f\"Stock Symbol: {STOCK_SYMBOL}\")\n",
    "print(f\"Data Period: {START_DATE} to {END_DATE}\")\n",
    "print(f\"Total Data Points: {len(df_clean)}\")\n",
    "print(f\"Number of Features: {len(feature_columns)}\")\n",
    "print(f\"Training Set Size: {len(X_train)}\")\n",
    "print(f\"Test Set Size: {len(X_test)}\")\n",
    "print()\n",
    "print(\"MODEL PERFORMANCE:\")\n",
    "print(metrics_df.to_string(index=False))\n",
    "print()\n",
    "print(f\"Best Model: {best_model_name}\")\n",
    "print(f\"Best R² Score: {results[best_model_name]['R²']:.4f}\")\n",
    "print(f\"Best RMSE: ${results[best_model_name]['RMSE']:.2f}\")\n",
    "print()\n",
    "print(\"NEXT DAY PREDICTION:\")\n",
    "print(f\"Current Price: ${df_clean['Close'].iloc[-1]:.2f}\")\n",
    "print(f\"Predicted Price: ${next_day_prediction:.2f}\")\n",
    "print(f\"Predicted Change: ${next_day_prediction - df_clean['Close'].iloc[-1]:.2f}\")\n",
    "print()\n",
    "print(\"IMPORTANT DISCLAIMERS:\")\n",
    "print(\"- This model is for educational purposes only\")\n",
    "print(\"- Past performance does not guarantee future results\")\n",
    "print(\"- Stock market predictions are inherently uncertain\")\n",
    "print(\"- Always consult with financial advisors before making investment decisions\")\n",
    "print(\"=\" * 60)"
   ]
  }
 ],
 "metadata": {
  "kernelspec": {
   "display_name": "Python 3",
   "language": "python",
   "name": "python3"
  },
  "language_info": {
   "codemirror_mode": {
    "name": "ipython",
    "version": 3
   },
   "file_extension": ".py",
   "mimetype": "text/x-python",
   "name": "python",
   "nbconvert_exporter": "python",
   "pygments_lexer": "ipython3",
   "version": "3.8.5"
  }
 },
 "nbformat": 4,
 "nbformat_minor": 4
}